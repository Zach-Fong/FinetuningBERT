{
 "cells": [
  {
   "cell_type": "markdown",
   "metadata": {},
   "source": [
    "# Project\n",
    "\n",
    "Author: Billy Shi, Zach Fong"
   ]
  },
  {
   "cell_type": "markdown",
   "metadata": {},
   "source": [
    "## Data Preprocessing"
   ]
  },
  {
   "cell_type": "markdown",
   "metadata": {},
   "source": [
    "### join_split_data\n",
    "\n",
    "Join and split the data in to raw form"
   ]
  },
  {
   "cell_type": "code",
   "execution_count": null,
   "metadata": {},
   "outputs": [],
   "source": [
    "from pyspark.sql import SparkSession\n",
    "from pyspark.sql.functions import desc, col, max, when, sum\n",
    "from pyspark.sql import SparkSession, functions, types, Row\n",
    "\n",
    "# Adjustable params\n",
    "train_set_precentage = 0.9\n",
    "invalid_info = [\"[deleted]\", \"[removed]\"]\n",
    "\n",
    "    \n",
    "spark = SparkSession.builder \\\n",
    "    .appName(\"Join and split data\") \\\n",
    "    .getOrCreate()\n",
    "# Getting raw data\n",
    "post_df = spark.read.json(\"./askreddit/submissions/\")\n",
    "comment_df = spark.read.json(\"./askreddit/comments/\")\n",
    "\n",
    "# Filter out null rows and invalid rows\n",
    "valid_post = post_df.filter(~col('title').isin(invalid_info) & col('name').isNotNull())\n",
    "valid_comment = comment_df.filter((~col('body').isin(invalid_info)))\n",
    "valid_comment = valid_comment.withColumnRenamed(\"score\", \"comment_score\")\\\n",
    "    .withColumnRenamed(\"ups\", \"comment_ups\").withColumnRenamed(\"id\", \"comment_id\")\n",
    "\n",
    "# Top 1000 posts\n",
    "top_posts = valid_post.orderBy(desc(\"score\")).limit(1000)\n",
    "\n",
    "# Train, test split\n",
    "test_set_precentage = 1 - train_set_precentage\n",
    "split_df = top_posts.randomSplit([test_set_precentage, train_set_precentage])\n",
    "\n",
    "test_set = split_df[0]\n",
    "train_set = split_df[1]\n",
    "\n",
    "# Renaming columns\n",
    "train_set = train_set.withColumnRenamed(\"score\", \"post_score\").withColumnRenamed(\"ups\", \"post_ups\")\\\n",
    "    .withColumnRenamed(\"id\", \"post_id\")\n",
    "# Join the post with comments\n",
    "joined_train = train_set.join(valid_comment, valid_comment['parent_id'] == train_set['name'], \"inner\")\n",
    "# Compute the max score among the post for each comment\n",
    "max_comment_score_train = joined_train.groupBy(col(\"parent_id\")). \\\n",
    "    agg(max(\"comment_score\").alias(\"max_comment_score\"))\n",
    "joined_train = joined_train.join(max_comment_score_train, \"parent_id\", \"left\")\n",
    "# Select the columns to be saved\n",
    "selected_columns_train = joined_train.select(\"post_id\", \"comment_id\", \"title\", \"selftext\", \"body\", \"comment_score\", \"post_score\", \"max_comment_score\", \"comment_ups\", \"post_ups\", \"controversiality\", \"num_comments\")\n",
    "\n",
    "## Repeat for test set\n",
    "# Renaming columns\n",
    "test_set = test_set.withColumnRenamed(\"score\", \"post_score\").withColumnRenamed(\"ups\", \"post_ups\")\\\n",
    "    .withColumnRenamed(\"id\", \"post_id\")\n",
    "# Join the post with comments\n",
    "joined_test = test_set.join(valid_comment, valid_comment['parent_id'] == test_set['name'], \"inner\")\n",
    "# Compute the max score among the post for each comment\n",
    "max_comment_score_test = joined_test.groupBy(col(\"parent_id\")). \\\n",
    "    agg(max(\"comment_score\").alias(\"max_comment_score\"))\n",
    "joined_test = joined_test.join(max_comment_score_test, \"parent_id\", \"left\")\n",
    "# Select the columns to be saved\n",
    "selected_columns_test = joined_test.select(\"post_id\", \"comment_id\", \"title\", \"selftext\", \"body\", \"comment_score\", \"post_score\", \"max_comment_score\", \"comment_ups\", \"post_ups\", \"controversiality\", \"num_comments\")\n",
    "\n",
    "selected_columns_train.write \\\n",
    "    .option(\"compression\", \"snappy\") \\\n",
    "    .parquet(\"./data/joined_train_raw\", mode=\"overwrite\")\n",
    "\n",
    "selected_columns_test.write \\\n",
    "    .option(\"compression\", \"snappy\") \\\n",
    "    .parquet(\"./data/joined_test_raw\", mode=\"overwrite\")"
   ]
  },
  {
   "cell_type": "markdown",
   "metadata": {},
   "source": [
    "### Optional: join_save_data\n",
    "\n",
    "To save extra raw data sets if needed, in the below case, we get top 1000-1100 post as our out of domain test set."
   ]
  },
  {
   "cell_type": "code",
   "execution_count": null,
   "metadata": {},
   "outputs": [],
   "source": [
    "from pyspark.sql import SparkSession, Window\n",
    "from pyspark.sql.functions import desc, col, max, when, sum, row_number\n",
    "from pyspark.sql import SparkSession, functions, types, Row\n",
    "\n",
    "invalid_info = [\"[deleted]\", \"[removed]\"]\n",
    "file_save_path = \"./data/joined_test_extra_raw\"\n",
    "\n",
    "    \n",
    "spark = SparkSession.builder \\\n",
    "    .appName(\"Join and split data\") \\\n",
    "    .getOrCreate()\n",
    "# Getting raw data\n",
    "post_df = spark.read.json(\"./askreddit/submissions/\")\n",
    "comment_df = spark.read.json(\"./askreddit/comments/\")\n",
    "\n",
    "# Filter out null rows and invalid rows\n",
    "valid_post = post_df.filter(~col('title').isin(invalid_info) & col('name').isNotNull())\n",
    "valid_comment = comment_df.filter((~col('body').isin(invalid_info)))\n",
    "valid_comment = valid_comment.withColumnRenamed(\"score\", \"comment_score\")\\\n",
    "    .withColumnRenamed(\"ups\", \"comment_ups\").withColumnRenamed(\"id\", \"comment_id\")\n",
    "\n",
    "# Define the window specification with ordering\n",
    "windowSpec = Window.orderBy(desc(\"score\"))\n",
    "# Add a row number to each row\n",
    "ranked_posts = valid_post.withColumn(\"row_number\", row_number().over(windowSpec))\n",
    "# Filter to get rows 1001 to 1100\n",
    "top_posts = ranked_posts.where((ranked_posts.row_number >= 1001) & (ranked_posts.row_number <= 1100))\n",
    "# Optionally, you can drop the row_number column if you don't need it\n",
    "top_posts = top_posts.drop(\"row_number\")\n",
    "\n",
    "# Renaming columns\n",
    "top_posts = top_posts.withColumnRenamed(\"score\", \"post_score\").withColumnRenamed(\"ups\", \"post_ups\")\\\n",
    "    .withColumnRenamed(\"id\", \"post_id\")\n",
    "# Join the post with comments\n",
    "joined = top_posts.join(valid_comment, valid_comment['parent_id'] == top_posts['name'], \"inner\")\n",
    "# Compute the max score among the post for each comment\n",
    "max_comment_score_train = joined.groupBy(col(\"parent_id\")). \\\n",
    "    agg(max(\"comment_score\").alias(\"max_comment_score\"))\n",
    "joined = joined.join(max_comment_score_train, \"parent_id\", \"left\")\n",
    "# Select the columns to be saved\n",
    "selected_columns = joined.select(\"post_id\", \"comment_id\", \"title\", \"selftext\", \"body\", \"comment_score\", \"post_score\", \"max_comment_score\", \"comment_ups\", \"post_ups\", \"controversiality\", \"num_comments\")\n",
    "\n",
    "\n",
    "selected_columns.write \\\n",
    "    .option(\"compression\", \"snappy\") \\\n",
    "    .parquet(file_save_path, mode=\"overwrite\")\n"
   ]
  },
  {
   "cell_type": "markdown",
   "metadata": {},
   "source": [
    "### process_raw_data\n",
    "\n",
    "Process the raw data into clean data"
   ]
  },
  {
   "cell_type": "code",
   "execution_count": null,
   "metadata": {},
   "outputs": [],
   "source": [
    "from pyspark.sql import SparkSession, types, functions, Window\n",
    "from pyspark.sql import functions as F\n",
    "from pyspark.sql.types import StructType, StructField, StringType, FloatType\n",
    "import pandas as pd\n",
    "\n",
    "def processData(df):\n",
    "    df = df.withColumnRenamed(\"body\", \"comment\").withColumnRenamed(\"selftext\", \"post_body\")\n",
    "    null_comments = [\"[deleted]\", \"[removed]\"]\n",
    "    cleaned_df = df.filter(~F.col(\"comment\").isin(null_comments))\n",
    "    cleaned_df = cleaned_df.filter((F.col(\"post_body\").isNull()) | (F.trim(F.col(\"post_body\")) == \"\"))\n",
    "\n",
    "    cleaned_df = cleaned_df.withColumn(\"comment_score_ratio\", F.col(\"comment_score\")/F.col(\"max_comment_score\"))\n",
    "\n",
    "    # Get rid of duplicate comments\n",
    "    window_spec = Window.partitionBy('post_id', 'comment').orderBy(F.col('comment_score').desc())\n",
    "    without_dupes = cleaned_df.withColumn('row_number', F.row_number().over(window_spec))\n",
    "    without_dupes = without_dupes.filter(F.col('row_number') == 1)\n",
    "    without_dupes = without_dupes.drop('row_number')\n",
    "    cleaned_df = without_dupes\n",
    "    unwanted_columns = [\"post_id\", \"comment_id\", \"post_body\", \"post_score\", \"max_comment_score\", \"post_ups\", \"controversiality\", \"num_comments\"]\n",
    "    cleaned_df = cleaned_df.drop(*unwanted_columns)\n",
    "\n",
    "    return cleaned_df"
   ]
  },
  {
   "cell_type": "code",
   "execution_count": null,
   "metadata": {},
   "outputs": [],
   "source": [
    "spark = SparkSession.builder \\\n",
    "    .appName(\"askreddit data process\") \\\n",
    "    .getOrCreate()\n",
    "\n",
    "train_set_raw = spark.read.parquet(\"./data/joined_train_raw\")\n",
    "test_set_raw = spark.read.parquet(\"./data/joined_test_raw\")\n",
    "\n",
    "train_set_cleaned = processData(train_set_raw)\n",
    "test_set_cleaned = processData(test_set_raw)\n",
    "\n",
    "train_set_cleaned.write.parquet(\"./data/joined_train_clean\", mode=\"overwrite\")\n",
    "test_set_cleaned.write.parquet(\"./data/joined_test_clean\", mode=\"overwrite\")"
   ]
  },
  {
   "cell_type": "markdown",
   "metadata": {},
   "source": [
    "## Compute embeddings and other metrics\n",
    "\n",
    "This is to freeze the BERT model, so we pre-compute the embeddings for each comment pair, thus allows a much faster tuning and trials for the regression head"
   ]
  },
  {
   "cell_type": "markdown",
   "metadata": {},
   "source": [
    "### Compute and save embeddings - save_embeddings"
   ]
  },
  {
   "cell_type": "code",
   "execution_count": null,
   "metadata": {},
   "outputs": [],
   "source": [
    "import torch\n",
    "import tqdm\n",
    "from transformers import AutoTokenizer, AutoModel\n",
    "\n",
    "import numpy as np\n",
    "import pandas as pd\n",
    "\n",
    "import h5py\n",
    "import gc\n",
    "\n",
    "# Nvidia cuda\n",
    "device_avaliable = 'cuda' if torch.cuda.is_available() else 'cpu'\n",
    "# Apple Metal\n",
    "device_avaliable = 'mps' if torch.backends.mps.is_available() else device_avaliable\n",
    "device = torch.device(device_avaliable)\n",
    "\n",
    "# HP:\n",
    "current_group = 'test' # test or train\n",
    "model_name = 'distilbert-base-uncased'\n",
    "target_column = 'comment_score_ratio'\n",
    "\n",
    "src_path = f'./data/joined_{current_group}_clean/'\n",
    "save_path = f'./data/embeddings_{current_group}.h5'\n",
    "\n",
    "target_save_path = f'./data/target_{current_group}.npy'"
   ]
  },
  {
   "cell_type": "code",
   "execution_count": null,
   "metadata": {},
   "outputs": [],
   "source": [
    "def tokenize_comments_batch(titles, comments, tokenizer, max_length=512):\n",
    "    \"\"\"\n",
    "    Tokenize a batch of title-comment pairs.\n",
    "    \"\"\"\n",
    "    \n",
    "    # Tokenize the batch\n",
    "    encoded_batch = tokenizer(titles, comments,\n",
    "                              padding=True,\n",
    "                              truncation=True,\n",
    "                              max_length=max_length,\n",
    "                              return_tensors='pt')\n",
    "    return encoded_batch\n",
    "\n",
    "\n",
    "def get_embeddings(encoded_inputs, model):\n",
    "    \"\"\"\n",
    "    Get embeddings for a batch of tokenized inputs.\n",
    "    \"\"\"\n",
    "    with torch.no_grad():\n",
    "        outputs = model(**encoded_inputs)\n",
    "        hidden_states = outputs.last_hidden_state\n",
    "    embeddings = torch.mean(hidden_states, dim=1)\n",
    "    return embeddings\n",
    "\n",
    "def tokenize_and_get_embeddings_save(titles, comments, ids, target_scores, tokenizer, model, batch_size=32):\n",
    "    \"\"\"\n",
    "    Process a list of titles and comments to get their embeddings in batches.\n",
    "    \"\"\"\n",
    "    # Ensure titles and comments are lists of the same length\n",
    "    assert len(titles) == len(comments), \"Titles and comments must be lists of the same length.\"\n",
    "    print(\"Computing embeddings and saving\")\n",
    "    # Prepare for batching\n",
    "    total = len(titles)\n",
    "    with h5py.File(save_path, 'w') as f:\n",
    "        # Initialize the dataset within the HDF5 file      # embedding size: 768, other 3 columns: id, length, target_score\n",
    "        embeddings_dataset = f.create_dataset('embeddings', shape=(total, 768+3), dtype='float32', compression='gzip', compression_opts=9)\n",
    "        \n",
    "        \n",
    "        for start_idx in tqdm.tqdm(range(0, total, batch_size)):\n",
    "            end_idx = start_idx + batch_size\n",
    "            batch_titles = titles[start_idx:end_idx]\n",
    "            batch_comments = comments[start_idx:end_idx]\n",
    "            \n",
    "            # Tokenize the batch\n",
    "            encoded_batch = tokenize_comments_batch(batch_titles, batch_comments, tokenizer, max_length=512)\n",
    "            \n",
    "            # Move encoded inputs to GPU\n",
    "            encoded_batch = {k: v.to(model.device) for k, v in encoded_batch.items()}\n",
    "            \n",
    "            # Get embeddings\n",
    "            batch_embeddings = get_embeddings(encoded_batch, model)\n",
    "            \n",
    "            # Write the batch embeddings directly to the HDF5 dataset\n",
    "            embeddings_dataset[start_idx:end_idx, 0:768] = batch_embeddings.cpu().numpy()\n",
    "        \n",
    "            # Clean up to prevent memory leak\n",
    "            del batch_embeddings\n",
    "            del encoded_batch\n",
    "            gc.collect()\n",
    "            if torch.cuda.is_available():\n",
    "                torch.cuda.empty_cache() \n",
    "            elif torch.backends.mps.is_available():\n",
    "                torch.mps.empty_cache()\n",
    "\n",
    "        print(\"Saving addtional columns\")\n",
    "        \n",
    "        all_ids = np.array(ids)\n",
    "        all_lengths = np.array([len(comment) for comment in comments])\n",
    "        all_scores = np.array(target_scores)\n",
    "        # Append additional data after embeddings are all computed\n",
    "        embeddings_dataset[:, 768] = all_ids\n",
    "        embeddings_dataset[:, 769] = all_lengths\n",
    "        embeddings_dataset[:, 770] = all_scores"
   ]
  },
  {
   "cell_type": "code",
   "execution_count": null,
   "metadata": {},
   "outputs": [],
   "source": [
    "tokenizer = AutoTokenizer.from_pretrained(model_name)\n",
    "model = AutoModel.from_pretrained(model_name)\n",
    "model = model.to(device)\n",
    "\n",
    "df = pd.read_parquet(src_path)\n",
    "\n",
    "# Test\n",
    "# df = df.iloc[0:1000]\n",
    "\n",
    "print(\"Data size:\", df.shape[0])\n",
    "\n",
    "# print(\"Saving targets\")\n",
    "# np.save(target_save_path, df[target_column].values)\n",
    "\n",
    "titles = df['title'].tolist()\n",
    "comments = df['comment'].tolist()\n",
    "\n",
    "# Additional columns\n",
    "# USE INDEX FOR NOW\n",
    "ids = df.index.to_list()\n",
    "target_scores = df['comment_score_ratio'].to_numpy()\n",
    "\n",
    "\n",
    "# Tokenize, compute the embeddings and save as h5py\n",
    "tokenize_and_get_embeddings_save(titles, comments, ids, target_scores, tokenizer, model, batch_size=32)"
   ]
  },
  {
   "cell_type": "code",
   "execution_count": null,
   "metadata": {},
   "outputs": [],
   "source": [
    "# Addtionally we compute and save the tokenized lengths\n",
    "tokenized_input = tokenizer(titles, comments,\n",
    "                padding=False,\n",
    "                truncation=False,\n",
    "                max_length=None,\n",
    "                return_length=True,\n",
    "                return_tensors='np')\n",
    "tokenized_input_len = tokenized_input['length']\n",
    "print(tokenized_input_len.max())\n",
    "\n",
    "tokenized_title = tokenizer(titles,\n",
    "                padding=False,\n",
    "                truncation=False,\n",
    "                max_length=None,\n",
    "                return_length=True,\n",
    "                return_tensors='np')\n",
    "tokenized_title_len = tokenized_title['length']\n",
    "print(tokenized_title_len.max())\n",
    "\n",
    "tokenized_comment = tokenizer(comments,\n",
    "                padding=False,\n",
    "                truncation=False,\n",
    "                max_length=None,\n",
    "                return_length=True,\n",
    "                return_tensors='np')\n",
    "tokenized_comment_len = tokenized_comment['length']\n",
    "print(tokenized_comment_len.max())\n",
    "\n",
    "assert tokenized_comment_len.shape == tokenized_title_len.shape == tokenized_input_len.shape"
   ]
  },
  {
   "cell_type": "code",
   "execution_count": null,
   "metadata": {},
   "outputs": [],
   "source": [
    "# Save the computed tokenized lengths and target\n",
    "tokenize_lengths_with_score = pd.DataFrame({'tokenized_input_len': tokenized_input_len, 'tokenized_title_len': tokenized_title_len,\\\n",
    "                    'tokenized_comment_len': tokenized_comment_len, 'target_scores' : target_scores})\n",
    "\n",
    "\n",
    "tokenize_lengths_with_score.to_parquet(\"./data/test_tokenize_lengths_with_score.parquet\", index=False, compression='gzip')\n",
    "tokenize_lengths_with_score =  pd.read_parquet(\"./data/test_tokenize_lengths_with_score.parquet\")\n",
    "\n",
    "tokenize_lengths_with_score.head(10)"
   ]
  },
  {
   "cell_type": "markdown",
   "metadata": {},
   "source": [
    "## Train "
   ]
  },
  {
   "cell_type": "markdown",
   "metadata": {},
   "source": [
    "### Training Process - train"
   ]
  },
  {
   "cell_type": "code",
   "execution_count": 5,
   "metadata": {},
   "outputs": [],
   "source": [
    "import argparse, os, string, sys\n",
    "import torch\n",
    "from tqdm import tqdm\n",
    "from pathlib import Path\n",
    "from transformers import BertModel, AutoTokenizer\n",
    "from datasets import load_dataset, Dataset\n",
    "from torch.utils.data import DataLoader\n",
    "import torch.nn as nn\n",
    "import torch.nn.functional as F\n",
    "import torch.optim as optim\n",
    "\n",
    "import pandas as pd\n",
    "import numpy as np\n",
    "\n",
    "import pdb\n",
    "\n",
    "import h5py\n",
    "# import peft\n",
    "\n",
    "# device = torch.device('cuda' if torch.cuda.is_available() else 'cpu')\n",
    "\n",
    "# Nvidia cuda\n",
    "device_avaliable = 'cuda' if torch.cuda.is_available() else 'cpu'\n",
    "# # Apple Metal\n",
    "# device_avaliable = 'mps' if torch.backends.mps.is_available() else device_avaliable\n",
    "device = torch.device(device_avaliable)\n",
    "\n",
    "basemodel = 'distilbert-base-uncased'\n",
    "\n",
    "epochs = 8\n",
    "\n",
    "batch_size = 64\n",
    "\n",
    "# path_to_model = '../data/models/regression_head_MLP.pth'\n",
    "path_to_model = 'regression_head.pth'\n",
    "\n",
    "load_model = True"
   ]
  },
  {
   "cell_type": "code",
   "execution_count": 2,
   "metadata": {},
   "outputs": [],
   "source": [
    "class EmbeddingsDataset(Dataset):\n",
    "    def __init__(self, embeddings, targets):\n",
    "        self.embeddings = embeddings\n",
    "        self.targets = targets\n",
    "    \n",
    "    def __len__(self):\n",
    "        return len(self.embeddings)\n",
    "    \n",
    "    def __getitem__(self, idx):\n",
    "        embedding = self.embeddings[idx]\n",
    "        target = self.targets[idx]\n",
    "        embedding_pt = torch.tensor(embedding, dtype=torch.float)\n",
    "        target_pt = torch.tensor(target, dtype=torch.float)\n",
    "        return {\n",
    "            'embeddings' : embedding_pt, \n",
    "            'targets' : target_pt\n",
    "        }\n",
    "    \n",
    "# class RegressionHead(nn.Module):\n",
    "#     def __init__(self, hidden_layer_size):\n",
    "#         super(RegressionHead, self).__init__()\n",
    "#         self.out = nn.Linear(hidden_layer_size, 1)\n",
    "\n",
    "#     def forward(self, embeddings):\n",
    "#         return self.out(embeddings)\n",
    "\n",
    "class RegressionHead(torch.nn.Module):\n",
    "    def __init__(self, hidden_layer_size):\n",
    "        super(RegressionHead, self).__init__()\n",
    "\n",
    "        self.regression_head = nn.Sequential(\n",
    "            nn.Linear(hidden_layer_size, 512),\n",
    "            nn.ReLU(),\n",
    "            nn.Dropout(0.1),\n",
    "\n",
    "            nn.Linear(512, 256),\n",
    "            nn.ReLU(),\n",
    "            nn.Dropout(0.1),\n",
    "\n",
    "            nn.Linear(256, 128),\n",
    "            nn.ReLU(),\n",
    "            nn.Dropout(0.1),\n",
    "\n",
    "            nn.Linear(128, 1)\n",
    "        )\n",
    "\n",
    "    def forward(self, x):\n",
    "        return self.regression_head(x)"
   ]
  },
  {
   "cell_type": "code",
   "execution_count": 3,
   "metadata": {},
   "outputs": [
    {
     "name": "stdout",
     "output_type": "stream",
     "text": [
      "(1818842, 768)\n",
      "(200210, 768)\n"
     ]
    }
   ],
   "source": [
    "# Load the train data of embeddings and targets\n",
    "with h5py.File('../data/embeddings_train.h5', 'r') as f:\n",
    "    embeddings_np = f['embeddings'][:]\n",
    "    print(embeddings_np.shape)\n",
    "\n",
    "targets_np = np.load('../data/target_train.npy')\n",
    "\n",
    "assert len(targets_np) == len(embeddings_np)\n",
    "\n",
    "# Load the test data of embeddings and targets\n",
    "with h5py.File('../data/embeddings_test.h5', 'r') as f:\n",
    "    test_embeddings_np = f['embeddings'][:]\n",
    "    print(test_embeddings_np.shape)\n",
    "\n",
    "test_targets_np = np.load('../data/target_test.npy')\n",
    "\n",
    "assert len(test_targets_np) == len(test_embeddings_np)"
   ]
  },
  {
   "cell_type": "code",
   "execution_count": 6,
   "metadata": {},
   "outputs": [
    {
     "name": "stdout",
     "output_type": "stream",
     "text": [
      "Model loaded successfully.\n",
      "Test Loss: 0.0022126934084872947\n"
     ]
    }
   ],
   "source": [
    "dataset = EmbeddingsDataset(embeddings_np, targets_np)\n",
    "dataloader = DataLoader(dataset, batch_size=batch_size, shuffle=True)\n",
    "\n",
    "test_dataset = EmbeddingsDataset(test_embeddings_np, test_targets_np)\n",
    "test_dataloader = DataLoader(test_dataset, batch_size=batch_size, shuffle=True)\n",
    "\n",
    "criterion = nn.MSELoss()\n",
    "\n",
    "if os.path.exists(path_to_model) and load_model:\n",
    "# if False:\n",
    "    # Load the model\n",
    "    regression_head = torch.load(path_to_model)\n",
    "    regression_head.eval()  # Set the model to evaluation mode if you're only doing inference\n",
    "    print(\"Model loaded successfully.\")\n",
    "    test_loss = 0\n",
    "    with torch.no_grad():  # Disable gradient calculation\n",
    "        for batch in test_dataloader:\n",
    "            embeddings = batch['embeddings'].to(device)\n",
    "            targets = batch['targets'].to(device)\n",
    "            outputs = regression_head(embeddings)\n",
    "            loss = criterion(outputs.squeeze(), targets)\n",
    "            test_loss += loss.item()\n",
    "    test_loss /= len(test_dataloader)\n",
    "    print(f\"Test Loss: {test_loss}\")\n",
    "else:\n",
    "    print(\"Creating new model.\")\n",
    "    hidden_layer_size = embeddings_np.shape[1]\n",
    "    # regression_head = RegressionHead(hidden_layer_size, additional_hidden_sizes=[256], dropout_rate=0.1)\n",
    "    regression_head = RegressionHead(hidden_layer_size)\n"
   ]
  },
  {
   "cell_type": "code",
   "execution_count": 10,
   "metadata": {},
   "outputs": [
    {
     "name": "stderr",
     "output_type": "stream",
     "text": [
      "100%|██████████| 28420/28420 [00:36<00:00, 787.40it/s] \n"
     ]
    },
    {
     "name": "stdout",
     "output_type": "stream",
     "text": [
      "Epoch 1, Training Loss: 0.0023389708893916516\n",
      "Epoch 1, Test Loss: 0.0021511704503390057\n"
     ]
    },
    {
     "name": "stderr",
     "output_type": "stream",
     "text": [
      "100%|██████████| 28420/28420 [00:37<00:00, 758.44it/s] \n"
     ]
    },
    {
     "name": "stdout",
     "output_type": "stream",
     "text": [
      "Epoch 2, Training Loss: 0.0023263837661429126\n",
      "Epoch 2, Test Loss: 0.0021123349650369306\n"
     ]
    },
    {
     "name": "stderr",
     "output_type": "stream",
     "text": [
      "100%|██████████| 28420/28420 [00:38<00:00, 736.31it/s] \n"
     ]
    },
    {
     "name": "stdout",
     "output_type": "stream",
     "text": [
      "Epoch 3, Training Loss: 0.002319647473687241\n",
      "Epoch 3, Test Loss: 0.0021434500560680125\n"
     ]
    },
    {
     "name": "stderr",
     "output_type": "stream",
     "text": [
      "100%|██████████| 28420/28420 [00:39<00:00, 711.27it/s]\n"
     ]
    },
    {
     "name": "stdout",
     "output_type": "stream",
     "text": [
      "Epoch 4, Training Loss: 0.002311435122984163\n",
      "Epoch 4, Test Loss: 0.0021107662091651657\n"
     ]
    },
    {
     "name": "stderr",
     "output_type": "stream",
     "text": [
      "100%|██████████| 28420/28420 [00:33<00:00, 841.26it/s] \n"
     ]
    },
    {
     "name": "stdout",
     "output_type": "stream",
     "text": [
      "Epoch 5, Training Loss: 0.002299499975743075\n",
      "Epoch 5, Test Loss: 0.0021224304263469367\n"
     ]
    },
    {
     "name": "stderr",
     "output_type": "stream",
     "text": [
      "100%|██████████| 28420/28420 [00:38<00:00, 733.23it/s] \n"
     ]
    },
    {
     "name": "stdout",
     "output_type": "stream",
     "text": [
      "Epoch 6, Training Loss: 0.0022916473482617146\n",
      "Epoch 6, Test Loss: 0.0021155755447751505\n"
     ]
    },
    {
     "name": "stderr",
     "output_type": "stream",
     "text": [
      "100%|██████████| 28420/28420 [00:39<00:00, 728.24it/s] \n"
     ]
    },
    {
     "name": "stdout",
     "output_type": "stream",
     "text": [
      "Epoch 7, Training Loss: 0.002282292333683633\n",
      "Epoch 7, Test Loss: 0.002141893872063321\n"
     ]
    },
    {
     "name": "stderr",
     "output_type": "stream",
     "text": [
      "100%|██████████| 28420/28420 [00:39<00:00, 728.17it/s] \n"
     ]
    },
    {
     "name": "stdout",
     "output_type": "stream",
     "text": [
      "Epoch 8, Training Loss: 0.0022744285435816777\n",
      "Epoch 8, Test Loss: 0.0021555045966876406\n"
     ]
    },
    {
     "name": "stderr",
     "output_type": "stream",
     "text": [
      "100%|██████████| 28420/28420 [00:39<00:00, 710.50it/s] \n"
     ]
    },
    {
     "name": "stdout",
     "output_type": "stream",
     "text": [
      "Epoch 9, Training Loss: 0.0022681861305544047\n",
      "Epoch 9, Test Loss: 0.00211621499117444\n"
     ]
    },
    {
     "name": "stderr",
     "output_type": "stream",
     "text": [
      "100%|██████████| 28420/28420 [00:39<00:00, 723.50it/s] \n"
     ]
    },
    {
     "name": "stdout",
     "output_type": "stream",
     "text": [
      "Epoch 10, Training Loss: 0.002257898769290832\n",
      "Epoch 10, Test Loss: 0.0021341014270046784\n"
     ]
    },
    {
     "name": "stderr",
     "output_type": "stream",
     "text": [
      "100%|██████████| 28420/28420 [00:39<00:00, 726.72it/s] \n"
     ]
    },
    {
     "name": "stdout",
     "output_type": "stream",
     "text": [
      "Epoch 11, Training Loss: 0.0022517358819350974\n",
      "Epoch 11, Test Loss: 0.002232369401706188\n"
     ]
    },
    {
     "name": "stderr",
     "output_type": "stream",
     "text": [
      "100%|██████████| 28420/28420 [00:38<00:00, 737.14it/s] \n"
     ]
    },
    {
     "name": "stdout",
     "output_type": "stream",
     "text": [
      "Epoch 12, Training Loss: 0.0022413866903064185\n",
      "Epoch 12, Test Loss: 0.0021793567798949463\n"
     ]
    },
    {
     "name": "stderr",
     "output_type": "stream",
     "text": [
      "100%|██████████| 28420/28420 [00:37<00:00, 760.21it/s] \n"
     ]
    },
    {
     "name": "stdout",
     "output_type": "stream",
     "text": [
      "Epoch 13, Training Loss: 0.00223376636790251\n",
      "Epoch 13, Test Loss: 0.00216660329755054\n"
     ]
    },
    {
     "name": "stderr",
     "output_type": "stream",
     "text": [
      "100%|██████████| 28420/28420 [00:32<00:00, 872.97it/s] \n"
     ]
    },
    {
     "name": "stdout",
     "output_type": "stream",
     "text": [
      "Epoch 14, Training Loss: 0.002227168486232356\n",
      "Epoch 14, Test Loss: 0.0021909128958668444\n"
     ]
    },
    {
     "name": "stderr",
     "output_type": "stream",
     "text": [
      "100%|██████████| 28420/28420 [00:29<00:00, 950.56it/s] \n"
     ]
    },
    {
     "name": "stdout",
     "output_type": "stream",
     "text": [
      "Epoch 15, Training Loss: 0.0022190343608539343\n",
      "Epoch 15, Test Loss: 0.002200703248903791\n"
     ]
    },
    {
     "name": "stderr",
     "output_type": "stream",
     "text": [
      "100%|██████████| 28420/28420 [00:38<00:00, 731.23it/s]\n"
     ]
    },
    {
     "name": "stdout",
     "output_type": "stream",
     "text": [
      "Epoch 16, Training Loss: 0.0022134757006154536\n",
      "Epoch 16, Test Loss: 0.0021441634372236676\n"
     ]
    },
    {
     "name": "stderr",
     "output_type": "stream",
     "text": [
      "100%|██████████| 28420/28420 [00:38<00:00, 738.23it/s] \n"
     ]
    },
    {
     "name": "stdout",
     "output_type": "stream",
     "text": [
      "Epoch 17, Training Loss: 0.002207674808497992\n",
      "Epoch 17, Test Loss: 0.0021674155021937517\n"
     ]
    },
    {
     "name": "stderr",
     "output_type": "stream",
     "text": [
      "100%|██████████| 28420/28420 [00:37<00:00, 759.38it/s] \n"
     ]
    },
    {
     "name": "stdout",
     "output_type": "stream",
     "text": [
      "Epoch 18, Training Loss: 0.0021987515372360452\n",
      "Epoch 18, Test Loss: 0.002189365963833765\n"
     ]
    },
    {
     "name": "stderr",
     "output_type": "stream",
     "text": [
      "100%|██████████| 28420/28420 [00:38<00:00, 745.62it/s] \n"
     ]
    },
    {
     "name": "stdout",
     "output_type": "stream",
     "text": [
      "Epoch 19, Training Loss: 0.0021947508406056524\n",
      "Epoch 19, Test Loss: 0.0021782769544949595\n"
     ]
    },
    {
     "name": "stderr",
     "output_type": "stream",
     "text": [
      "100%|██████████| 28420/28420 [00:38<00:00, 739.14it/s] \n"
     ]
    },
    {
     "name": "stdout",
     "output_type": "stream",
     "text": [
      "Epoch 20, Training Loss: 0.0021903205130416625\n",
      "Epoch 20, Test Loss: 0.0021771767623545804\n"
     ]
    },
    {
     "name": "stderr",
     "output_type": "stream",
     "text": [
      "100%|██████████| 28420/28420 [00:37<00:00, 761.45it/s] \n"
     ]
    },
    {
     "name": "stdout",
     "output_type": "stream",
     "text": [
      "Epoch 21, Training Loss: 0.0021792735475614352\n",
      "Epoch 21, Test Loss: 0.0021762486914833797\n"
     ]
    },
    {
     "name": "stderr",
     "output_type": "stream",
     "text": [
      "100%|██████████| 28420/28420 [00:37<00:00, 763.88it/s]\n"
     ]
    },
    {
     "name": "stdout",
     "output_type": "stream",
     "text": [
      "Epoch 22, Training Loss: 0.0021768846679319476\n",
      "Epoch 22, Test Loss: 0.0021756143100833377\n"
     ]
    },
    {
     "name": "stderr",
     "output_type": "stream",
     "text": [
      "100%|██████████| 28420/28420 [00:35<00:00, 800.69it/s] \n"
     ]
    },
    {
     "name": "stdout",
     "output_type": "stream",
     "text": [
      "Epoch 23, Training Loss: 0.0021665609110775295\n",
      "Epoch 23, Test Loss: 0.002151723970387009\n"
     ]
    },
    {
     "name": "stderr",
     "output_type": "stream",
     "text": [
      "100%|██████████| 28420/28420 [00:38<00:00, 739.86it/s] \n"
     ]
    },
    {
     "name": "stdout",
     "output_type": "stream",
     "text": [
      "Epoch 24, Training Loss: 0.0021618583439653874\n",
      "Epoch 24, Test Loss: 0.0021447285333783686\n"
     ]
    },
    {
     "name": "stderr",
     "output_type": "stream",
     "text": [
      "100%|██████████| 28420/28420 [00:38<00:00, 742.81it/s] \n"
     ]
    },
    {
     "name": "stdout",
     "output_type": "stream",
     "text": [
      "Epoch 25, Training Loss: 0.0021560000962162094\n",
      "Epoch 25, Test Loss: 0.0022037720121887176\n"
     ]
    },
    {
     "name": "stderr",
     "output_type": "stream",
     "text": [
      "100%|██████████| 28420/28420 [00:38<00:00, 735.02it/s] \n"
     ]
    },
    {
     "name": "stdout",
     "output_type": "stream",
     "text": [
      "Epoch 26, Training Loss: 0.002148255280441578\n",
      "Epoch 26, Test Loss: 0.0021499573019333794\n"
     ]
    },
    {
     "name": "stderr",
     "output_type": "stream",
     "text": [
      "100%|██████████| 28420/28420 [00:36<00:00, 776.92it/s] \n"
     ]
    },
    {
     "name": "stdout",
     "output_type": "stream",
     "text": [
      "Epoch 27, Training Loss: 0.002144599987792261\n",
      "Epoch 27, Test Loss: 0.0021781243329677498\n"
     ]
    },
    {
     "name": "stderr",
     "output_type": "stream",
     "text": [
      "100%|██████████| 28420/28420 [00:37<00:00, 763.53it/s] \n"
     ]
    },
    {
     "name": "stdout",
     "output_type": "stream",
     "text": [
      "Epoch 28, Training Loss: 0.0021359506265678503\n",
      "Epoch 28, Test Loss: 0.002169377255809034\n"
     ]
    },
    {
     "name": "stderr",
     "output_type": "stream",
     "text": [
      "100%|██████████| 28420/28420 [00:38<00:00, 744.18it/s] \n"
     ]
    },
    {
     "name": "stdout",
     "output_type": "stream",
     "text": [
      "Epoch 29, Training Loss: 0.002130060546468684\n",
      "Epoch 29, Test Loss: 0.0022233489313118267\n"
     ]
    },
    {
     "name": "stderr",
     "output_type": "stream",
     "text": [
      "100%|██████████| 28420/28420 [00:35<00:00, 795.90it/s] \n"
     ]
    },
    {
     "name": "stdout",
     "output_type": "stream",
     "text": [
      "Epoch 30, Training Loss: 0.002120956016072208\n",
      "Epoch 30, Test Loss: 0.002300066195209467\n"
     ]
    },
    {
     "name": "stderr",
     "output_type": "stream",
     "text": [
      "100%|██████████| 28420/28420 [00:37<00:00, 758.20it/s] \n"
     ]
    },
    {
     "name": "stdout",
     "output_type": "stream",
     "text": [
      "Epoch 31, Training Loss: 0.0021180155244028285\n",
      "Epoch 31, Test Loss: 0.002191132157355598\n"
     ]
    },
    {
     "name": "stderr",
     "output_type": "stream",
     "text": [
      "100%|██████████| 28420/28420 [00:35<00:00, 799.61it/s] \n"
     ]
    },
    {
     "name": "stdout",
     "output_type": "stream",
     "text": [
      "Epoch 32, Training Loss: 0.00210792668117357\n",
      "Epoch 32, Test Loss: 0.0021901946479652187\n"
     ]
    },
    {
     "name": "stderr",
     "output_type": "stream",
     "text": [
      "100%|██████████| 28420/28420 [00:37<00:00, 760.53it/s]\n"
     ]
    },
    {
     "name": "stdout",
     "output_type": "stream",
     "text": [
      "Epoch 33, Training Loss: 0.002101384376383604\n",
      "Epoch 33, Test Loss: 0.0021635447511907575\n"
     ]
    },
    {
     "name": "stderr",
     "output_type": "stream",
     "text": [
      "100%|██████████| 28420/28420 [00:38<00:00, 742.82it/s] \n"
     ]
    },
    {
     "name": "stdout",
     "output_type": "stream",
     "text": [
      "Epoch 34, Training Loss: 0.002095273318399303\n",
      "Epoch 34, Test Loss: 0.0021770022315444337\n"
     ]
    },
    {
     "name": "stderr",
     "output_type": "stream",
     "text": [
      "100%|██████████| 28420/28420 [00:37<00:00, 759.11it/s] \n"
     ]
    },
    {
     "name": "stdout",
     "output_type": "stream",
     "text": [
      "Epoch 35, Training Loss: 0.0020832042372673693\n",
      "Epoch 35, Test Loss: 0.002149835688395311\n"
     ]
    },
    {
     "name": "stderr",
     "output_type": "stream",
     "text": [
      "100%|██████████| 28420/28420 [00:35<00:00, 804.65it/s] \n"
     ]
    },
    {
     "name": "stdout",
     "output_type": "stream",
     "text": [
      "Epoch 36, Training Loss: 0.00207932108403222\n",
      "Epoch 36, Test Loss: 0.0021836528271384718\n"
     ]
    },
    {
     "name": "stderr",
     "output_type": "stream",
     "text": [
      "100%|██████████| 28420/28420 [00:35<00:00, 808.40it/s] \n"
     ]
    },
    {
     "name": "stdout",
     "output_type": "stream",
     "text": [
      "Epoch 37, Training Loss: 0.0020709348400843076\n",
      "Epoch 37, Test Loss: 0.002213289312224168\n"
     ]
    },
    {
     "name": "stderr",
     "output_type": "stream",
     "text": [
      "100%|██████████| 28420/28420 [00:33<00:00, 840.05it/s] \n"
     ]
    },
    {
     "name": "stdout",
     "output_type": "stream",
     "text": [
      "Epoch 38, Training Loss: 0.00206011341272666\n",
      "Epoch 38, Test Loss: 0.0022761019553088515\n"
     ]
    },
    {
     "name": "stderr",
     "output_type": "stream",
     "text": [
      "100%|██████████| 28420/28420 [00:31<00:00, 889.67it/s] \n"
     ]
    },
    {
     "name": "stdout",
     "output_type": "stream",
     "text": [
      "Epoch 39, Training Loss: 0.0020556853111690174\n",
      "Epoch 39, Test Loss: 0.00235345738817789\n"
     ]
    },
    {
     "name": "stderr",
     "output_type": "stream",
     "text": [
      "100%|██████████| 28420/28420 [00:38<00:00, 740.06it/s] \n"
     ]
    },
    {
     "name": "stdout",
     "output_type": "stream",
     "text": [
      "Epoch 40, Training Loss: 0.0020431492358048537\n",
      "Epoch 40, Test Loss: 0.002192363632722128\n"
     ]
    },
    {
     "name": "stderr",
     "output_type": "stream",
     "text": [
      "100%|██████████| 28420/28420 [00:35<00:00, 804.97it/s] \n"
     ]
    },
    {
     "name": "stdout",
     "output_type": "stream",
     "text": [
      "Epoch 41, Training Loss: 0.0020362175483953308\n",
      "Epoch 41, Test Loss: 0.0022073947281803985\n"
     ]
    },
    {
     "name": "stderr",
     "output_type": "stream",
     "text": [
      "100%|██████████| 28420/28420 [00:35<00:00, 807.53it/s] \n"
     ]
    },
    {
     "name": "stdout",
     "output_type": "stream",
     "text": [
      "Epoch 42, Training Loss: 0.0020292338425312896\n",
      "Epoch 42, Test Loss: 0.002317462976385169\n"
     ]
    },
    {
     "name": "stderr",
     "output_type": "stream",
     "text": [
      "100%|██████████| 28420/28420 [00:36<00:00, 776.27it/s] \n"
     ]
    },
    {
     "name": "stdout",
     "output_type": "stream",
     "text": [
      "Epoch 43, Training Loss: 0.00201982808614741\n",
      "Epoch 43, Test Loss: 0.0022860015469051012\n"
     ]
    },
    {
     "name": "stderr",
     "output_type": "stream",
     "text": [
      "100%|██████████| 28420/28420 [00:37<00:00, 762.90it/s] \n"
     ]
    },
    {
     "name": "stdout",
     "output_type": "stream",
     "text": [
      "Epoch 44, Training Loss: 0.0020124925134257098\n",
      "Epoch 44, Test Loss: 0.0022779665680680472\n"
     ]
    },
    {
     "name": "stderr",
     "output_type": "stream",
     "text": [
      "100%|██████████| 28420/28420 [00:36<00:00, 772.57it/s]\n"
     ]
    },
    {
     "name": "stdout",
     "output_type": "stream",
     "text": [
      "Epoch 45, Training Loss: 0.002007771499729502\n",
      "Epoch 45, Test Loss: 0.0021886254989757774\n"
     ]
    },
    {
     "name": "stderr",
     "output_type": "stream",
     "text": [
      "100%|██████████| 28420/28420 [00:35<00:00, 797.26it/s] \n"
     ]
    },
    {
     "name": "stdout",
     "output_type": "stream",
     "text": [
      "Epoch 46, Training Loss: 0.001999585435140112\n",
      "Epoch 46, Test Loss: 0.002168098115766253\n"
     ]
    },
    {
     "name": "stderr",
     "output_type": "stream",
     "text": [
      "100%|██████████| 28420/28420 [00:38<00:00, 737.29it/s] \n"
     ]
    },
    {
     "name": "stdout",
     "output_type": "stream",
     "text": [
      "Epoch 47, Training Loss: 0.0019861800509901268\n",
      "Epoch 47, Test Loss: 0.002172001026651014\n"
     ]
    },
    {
     "name": "stderr",
     "output_type": "stream",
     "text": [
      "100%|██████████| 28420/28420 [00:36<00:00, 768.49it/s] \n"
     ]
    },
    {
     "name": "stdout",
     "output_type": "stream",
     "text": [
      "Epoch 48, Training Loss: 0.0019858114118605436\n",
      "Epoch 48, Test Loss: 0.0022153911656706163\n"
     ]
    },
    {
     "name": "stderr",
     "output_type": "stream",
     "text": [
      "100%|██████████| 28420/28420 [00:37<00:00, 754.69it/s] \n"
     ]
    },
    {
     "name": "stdout",
     "output_type": "stream",
     "text": [
      "Epoch 49, Training Loss: 0.00197651953346665\n",
      "Epoch 49, Test Loss: 0.002153701963640009\n"
     ]
    },
    {
     "name": "stderr",
     "output_type": "stream",
     "text": [
      "100%|██████████| 28420/28420 [00:38<00:00, 746.64it/s] \n"
     ]
    },
    {
     "name": "stdout",
     "output_type": "stream",
     "text": [
      "Epoch 50, Training Loss: 0.001969911606674474\n",
      "Epoch 50, Test Loss: 0.0021705317417741316\n"
     ]
    },
    {
     "name": "stderr",
     "output_type": "stream",
     "text": [
      "100%|██████████| 28420/28420 [00:38<00:00, 743.57it/s] \n"
     ]
    },
    {
     "name": "stdout",
     "output_type": "stream",
     "text": [
      "Epoch 51, Training Loss: 0.001962167282011044\n",
      "Epoch 51, Test Loss: 0.0023694180463699204\n"
     ]
    },
    {
     "name": "stderr",
     "output_type": "stream",
     "text": [
      "100%|██████████| 28420/28420 [00:34<00:00, 814.79it/s] \n"
     ]
    },
    {
     "name": "stdout",
     "output_type": "stream",
     "text": [
      "Epoch 52, Training Loss: 0.001957463137031041\n",
      "Epoch 52, Test Loss: 0.002244449618982293\n"
     ]
    },
    {
     "name": "stderr",
     "output_type": "stream",
     "text": [
      "100%|██████████| 28420/28420 [00:34<00:00, 827.19it/s] \n"
     ]
    },
    {
     "name": "stdout",
     "output_type": "stream",
     "text": [
      "Epoch 53, Training Loss: 0.0019521406817217214\n",
      "Epoch 53, Test Loss: 0.002196184977725781\n"
     ]
    },
    {
     "name": "stderr",
     "output_type": "stream",
     "text": [
      "100%|██████████| 28420/28420 [00:37<00:00, 753.53it/s] \n"
     ]
    },
    {
     "name": "stdout",
     "output_type": "stream",
     "text": [
      "Epoch 54, Training Loss: 0.0019442201877029922\n",
      "Epoch 54, Test Loss: 0.002284363434507038\n"
     ]
    },
    {
     "name": "stderr",
     "output_type": "stream",
     "text": [
      "100%|██████████| 28420/28420 [00:38<00:00, 736.36it/s]\n"
     ]
    },
    {
     "name": "stdout",
     "output_type": "stream",
     "text": [
      "Epoch 55, Training Loss: 0.001942376411590884\n",
      "Epoch 55, Test Loss: 0.002194335038422744\n"
     ]
    },
    {
     "name": "stderr",
     "output_type": "stream",
     "text": [
      "100%|██████████| 28420/28420 [00:38<00:00, 735.84it/s]\n"
     ]
    },
    {
     "name": "stdout",
     "output_type": "stream",
     "text": [
      "Epoch 56, Training Loss: 0.0019386853321271128\n",
      "Epoch 56, Test Loss: 0.002265983511740624\n"
     ]
    },
    {
     "name": "stderr",
     "output_type": "stream",
     "text": [
      "100%|██████████| 28420/28420 [00:37<00:00, 759.34it/s] \n"
     ]
    },
    {
     "name": "stdout",
     "output_type": "stream",
     "text": [
      "Epoch 57, Training Loss: 0.0019319310458363818\n",
      "Epoch 57, Test Loss: 0.002159829507037646\n"
     ]
    },
    {
     "name": "stderr",
     "output_type": "stream",
     "text": [
      "100%|██████████| 28420/28420 [00:36<00:00, 784.15it/s] \n"
     ]
    },
    {
     "name": "stdout",
     "output_type": "stream",
     "text": [
      "Epoch 58, Training Loss: 0.0019300919695360008\n",
      "Epoch 58, Test Loss: 0.0023133136726077932\n"
     ]
    },
    {
     "name": "stderr",
     "output_type": "stream",
     "text": [
      "100%|██████████| 28420/28420 [00:36<00:00, 788.24it/s] \n"
     ]
    },
    {
     "name": "stdout",
     "output_type": "stream",
     "text": [
      "Epoch 59, Training Loss: 0.0019220780548156137\n",
      "Epoch 59, Test Loss: 0.002222756850609772\n"
     ]
    },
    {
     "name": "stderr",
     "output_type": "stream",
     "text": [
      "100%|██████████| 28420/28420 [00:34<00:00, 814.34it/s] \n"
     ]
    },
    {
     "name": "stdout",
     "output_type": "stream",
     "text": [
      "Epoch 60, Training Loss: 0.0019105015238611543\n",
      "Epoch 60, Test Loss: 0.002249021344525481\n"
     ]
    },
    {
     "name": "stderr",
     "output_type": "stream",
     "text": [
      "100%|██████████| 28420/28420 [00:38<00:00, 747.71it/s] \n"
     ]
    },
    {
     "name": "stdout",
     "output_type": "stream",
     "text": [
      "Epoch 61, Training Loss: 0.0019143225352501118\n",
      "Epoch 61, Test Loss: 0.0021954380389260933\n"
     ]
    },
    {
     "name": "stderr",
     "output_type": "stream",
     "text": [
      "100%|██████████| 28420/28420 [00:38<00:00, 741.70it/s] \n"
     ]
    },
    {
     "name": "stdout",
     "output_type": "stream",
     "text": [
      "Epoch 62, Training Loss: 0.0019060737582983923\n",
      "Epoch 62, Test Loss: 0.0021865978645145613\n"
     ]
    },
    {
     "name": "stderr",
     "output_type": "stream",
     "text": [
      "100%|██████████| 28420/28420 [00:36<00:00, 774.73it/s] \n"
     ]
    },
    {
     "name": "stdout",
     "output_type": "stream",
     "text": [
      "Epoch 63, Training Loss: 0.0018997185961077143\n",
      "Epoch 63, Test Loss: 0.0022888642552610717\n"
     ]
    },
    {
     "name": "stderr",
     "output_type": "stream",
     "text": [
      "100%|██████████| 28420/28420 [00:37<00:00, 751.42it/s] \n"
     ]
    },
    {
     "name": "stdout",
     "output_type": "stream",
     "text": [
      "Epoch 64, Training Loss: 0.0018966956487051433\n",
      "Epoch 64, Test Loss: 0.002215533389700633\n"
     ]
    },
    {
     "name": "stderr",
     "output_type": "stream",
     "text": [
      "100%|██████████| 28420/28420 [00:35<00:00, 798.97it/s] \n"
     ]
    },
    {
     "name": "stdout",
     "output_type": "stream",
     "text": [
      "Epoch 65, Training Loss: 0.0018932385858575404\n",
      "Epoch 65, Test Loss: 0.0021885110793646565\n"
     ]
    },
    {
     "name": "stderr",
     "output_type": "stream",
     "text": [
      "100%|██████████| 28420/28420 [00:33<00:00, 854.73it/s] \n"
     ]
    },
    {
     "name": "stdout",
     "output_type": "stream",
     "text": [
      "Epoch 66, Training Loss: 0.0018886156551945435\n",
      "Epoch 66, Test Loss: 0.002211312600941301\n"
     ]
    },
    {
     "name": "stderr",
     "output_type": "stream",
     "text": [
      "100%|██████████| 28420/28420 [00:37<00:00, 756.30it/s] \n"
     ]
    },
    {
     "name": "stdout",
     "output_type": "stream",
     "text": [
      "Epoch 67, Training Loss: 0.0018832620587554494\n",
      "Epoch 67, Test Loss: 0.0021633709583409495\n"
     ]
    },
    {
     "name": "stderr",
     "output_type": "stream",
     "text": [
      "100%|██████████| 28420/28420 [00:38<00:00, 745.18it/s]\n"
     ]
    },
    {
     "name": "stdout",
     "output_type": "stream",
     "text": [
      "Epoch 68, Training Loss: 0.0018771481321843127\n",
      "Epoch 68, Test Loss: 0.0022706147572514046\n"
     ]
    },
    {
     "name": "stderr",
     "output_type": "stream",
     "text": [
      "100%|██████████| 28420/28420 [00:37<00:00, 759.12it/s] \n"
     ]
    },
    {
     "name": "stdout",
     "output_type": "stream",
     "text": [
      "Epoch 69, Training Loss: 0.001874152875196308\n",
      "Epoch 69, Test Loss: 0.002214407045124688\n"
     ]
    },
    {
     "name": "stderr",
     "output_type": "stream",
     "text": [
      "100%|██████████| 28420/28420 [00:37<00:00, 759.56it/s] \n"
     ]
    },
    {
     "name": "stdout",
     "output_type": "stream",
     "text": [
      "Epoch 70, Training Loss: 0.0018656101611140387\n",
      "Epoch 70, Test Loss: 0.002271993239940734\n"
     ]
    },
    {
     "name": "stderr",
     "output_type": "stream",
     "text": [
      "100%|██████████| 28420/28420 [00:36<00:00, 776.88it/s] \n"
     ]
    },
    {
     "name": "stdout",
     "output_type": "stream",
     "text": [
      "Epoch 71, Training Loss: 0.001862812436930627\n",
      "Epoch 71, Test Loss: 0.002185633259019121\n"
     ]
    },
    {
     "name": "stderr",
     "output_type": "stream",
     "text": [
      "100%|██████████| 28420/28420 [00:37<00:00, 753.53it/s] \n"
     ]
    },
    {
     "name": "stdout",
     "output_type": "stream",
     "text": [
      "Epoch 72, Training Loss: 0.0018583008750653407\n",
      "Epoch 72, Test Loss: 0.0022259375750529877\n"
     ]
    },
    {
     "name": "stderr",
     "output_type": "stream",
     "text": [
      "100%|██████████| 28420/28420 [00:36<00:00, 773.16it/s] \n"
     ]
    },
    {
     "name": "stdout",
     "output_type": "stream",
     "text": [
      "Epoch 73, Training Loss: 0.0018566693635946592\n",
      "Epoch 73, Test Loss: 0.0022422529208576914\n"
     ]
    },
    {
     "name": "stderr",
     "output_type": "stream",
     "text": [
      "100%|██████████| 28420/28420 [00:36<00:00, 770.28it/s] \n"
     ]
    },
    {
     "name": "stdout",
     "output_type": "stream",
     "text": [
      "Epoch 74, Training Loss: 0.0018496856816268554\n",
      "Epoch 74, Test Loss: 0.002242935935457479\n"
     ]
    },
    {
     "name": "stderr",
     "output_type": "stream",
     "text": [
      "100%|██████████| 28420/28420 [00:35<00:00, 804.20it/s] \n"
     ]
    },
    {
     "name": "stdout",
     "output_type": "stream",
     "text": [
      "Epoch 75, Training Loss: 0.0018441440884364925\n",
      "Epoch 75, Test Loss: 0.0021952957775812154\n"
     ]
    },
    {
     "name": "stderr",
     "output_type": "stream",
     "text": [
      "100%|██████████| 28420/28420 [00:34<00:00, 818.30it/s] \n"
     ]
    },
    {
     "name": "stdout",
     "output_type": "stream",
     "text": [
      "Epoch 76, Training Loss: 0.0018405063961980605\n",
      "Epoch 76, Test Loss: 0.0022251338412838527\n"
     ]
    },
    {
     "name": "stderr",
     "output_type": "stream",
     "text": [
      "100%|██████████| 28420/28420 [00:36<00:00, 782.51it/s] \n"
     ]
    },
    {
     "name": "stdout",
     "output_type": "stream",
     "text": [
      "Epoch 77, Training Loss: 0.001833860253708608\n",
      "Epoch 77, Test Loss: 0.002247406898424772\n"
     ]
    },
    {
     "name": "stderr",
     "output_type": "stream",
     "text": [
      "100%|██████████| 28420/28420 [00:35<00:00, 809.94it/s] \n"
     ]
    },
    {
     "name": "stdout",
     "output_type": "stream",
     "text": [
      "Epoch 78, Training Loss: 0.0018348292671359566\n",
      "Epoch 78, Test Loss: 0.002153207565117497\n"
     ]
    },
    {
     "name": "stderr",
     "output_type": "stream",
     "text": [
      "100%|██████████| 28420/28420 [00:38<00:00, 746.47it/s]\n"
     ]
    },
    {
     "name": "stdout",
     "output_type": "stream",
     "text": [
      "Epoch 79, Training Loss: 0.0018313172660289114\n",
      "Epoch 79, Test Loss: 0.00217050377078429\n"
     ]
    },
    {
     "name": "stderr",
     "output_type": "stream",
     "text": [
      "100%|██████████| 28420/28420 [00:37<00:00, 756.70it/s] \n"
     ]
    },
    {
     "name": "stdout",
     "output_type": "stream",
     "text": [
      "Epoch 80, Training Loss: 0.0018240608321695008\n",
      "Epoch 80, Test Loss: 0.002346228904335014\n"
     ]
    },
    {
     "name": "stderr",
     "output_type": "stream",
     "text": [
      "100%|██████████| 28420/28420 [00:36<00:00, 784.04it/s] \n"
     ]
    },
    {
     "name": "stdout",
     "output_type": "stream",
     "text": [
      "Epoch 81, Training Loss: 0.0018226818963073027\n",
      "Epoch 81, Test Loss: 0.002195319452397707\n"
     ]
    },
    {
     "name": "stderr",
     "output_type": "stream",
     "text": [
      "100%|██████████| 28420/28420 [00:38<00:00, 738.96it/s]\n"
     ]
    },
    {
     "name": "stdout",
     "output_type": "stream",
     "text": [
      "Epoch 82, Training Loss: 0.0018149476210202792\n",
      "Epoch 82, Test Loss: 0.0023324994328894617\n"
     ]
    },
    {
     "name": "stderr",
     "output_type": "stream",
     "text": [
      "100%|██████████| 28420/28420 [00:38<00:00, 735.63it/s]\n"
     ]
    },
    {
     "name": "stdout",
     "output_type": "stream",
     "text": [
      "Epoch 83, Training Loss: 0.0018140511416915909\n",
      "Epoch 83, Test Loss: 0.0022096686778336175\n"
     ]
    },
    {
     "name": "stderr",
     "output_type": "stream",
     "text": [
      "100%|██████████| 28420/28420 [00:38<00:00, 747.09it/s]\n"
     ]
    },
    {
     "name": "stdout",
     "output_type": "stream",
     "text": [
      "Epoch 84, Training Loss: 0.001804194262858957\n",
      "Epoch 84, Test Loss: 0.002193398989699168\n"
     ]
    },
    {
     "name": "stderr",
     "output_type": "stream",
     "text": [
      "100%|██████████| 28420/28420 [00:38<00:00, 747.80it/s] \n"
     ]
    },
    {
     "name": "stdout",
     "output_type": "stream",
     "text": [
      "Epoch 85, Training Loss: 0.001801575327957941\n",
      "Epoch 85, Test Loss: 0.002186505143788774\n"
     ]
    },
    {
     "name": "stderr",
     "output_type": "stream",
     "text": [
      "100%|██████████| 28420/28420 [00:38<00:00, 739.57it/s]\n"
     ]
    },
    {
     "name": "stdout",
     "output_type": "stream",
     "text": [
      "Epoch 86, Training Loss: 0.0018020592285822581\n",
      "Epoch 86, Test Loss: 0.0021636272213171343\n"
     ]
    },
    {
     "name": "stderr",
     "output_type": "stream",
     "text": [
      "100%|██████████| 28420/28420 [00:34<00:00, 831.83it/s] \n"
     ]
    },
    {
     "name": "stdout",
     "output_type": "stream",
     "text": [
      "Epoch 87, Training Loss: 0.0017944947699915714\n",
      "Epoch 87, Test Loss: 0.002230024520818417\n"
     ]
    },
    {
     "name": "stderr",
     "output_type": "stream",
     "text": [
      "100%|██████████| 28420/28420 [00:37<00:00, 765.67it/s] \n"
     ]
    },
    {
     "name": "stdout",
     "output_type": "stream",
     "text": [
      "Epoch 88, Training Loss: 0.0017930197834366858\n",
      "Epoch 88, Test Loss: 0.002238498752559301\n"
     ]
    },
    {
     "name": "stderr",
     "output_type": "stream",
     "text": [
      "100%|██████████| 28420/28420 [00:35<00:00, 810.79it/s] \n"
     ]
    },
    {
     "name": "stdout",
     "output_type": "stream",
     "text": [
      "Epoch 89, Training Loss: 0.00178727764806033\n",
      "Epoch 89, Test Loss: 0.0021987856465503935\n"
     ]
    },
    {
     "name": "stderr",
     "output_type": "stream",
     "text": [
      "100%|██████████| 28420/28420 [00:36<00:00, 768.68it/s] \n"
     ]
    },
    {
     "name": "stdout",
     "output_type": "stream",
     "text": [
      "Epoch 90, Training Loss: 0.0017876066429397726\n",
      "Epoch 90, Test Loss: 0.0023253207934121997\n"
     ]
    },
    {
     "name": "stderr",
     "output_type": "stream",
     "text": [
      "100%|██████████| 28420/28420 [00:35<00:00, 808.35it/s] \n"
     ]
    },
    {
     "name": "stdout",
     "output_type": "stream",
     "text": [
      "Epoch 91, Training Loss: 0.0017770525762901494\n",
      "Epoch 91, Test Loss: 0.0021999479395575527\n"
     ]
    },
    {
     "name": "stderr",
     "output_type": "stream",
     "text": [
      "100%|██████████| 28420/28420 [00:33<00:00, 860.16it/s] \n"
     ]
    },
    {
     "name": "stdout",
     "output_type": "stream",
     "text": [
      "Epoch 92, Training Loss: 0.0017803520244335787\n",
      "Epoch 92, Test Loss: 0.002192098897463879\n"
     ]
    },
    {
     "name": "stderr",
     "output_type": "stream",
     "text": [
      "100%|██████████| 28420/28420 [00:30<00:00, 923.07it/s] \n"
     ]
    },
    {
     "name": "stdout",
     "output_type": "stream",
     "text": [
      "Epoch 93, Training Loss: 0.001772890406984713\n",
      "Epoch 93, Test Loss: 0.0022655396607237015\n"
     ]
    },
    {
     "name": "stderr",
     "output_type": "stream",
     "text": [
      "100%|██████████| 28420/28420 [00:37<00:00, 759.87it/s] \n"
     ]
    },
    {
     "name": "stdout",
     "output_type": "stream",
     "text": [
      "Epoch 94, Training Loss: 0.0017704997597242386\n",
      "Epoch 94, Test Loss: 0.0022062804233485295\n"
     ]
    },
    {
     "name": "stderr",
     "output_type": "stream",
     "text": [
      "100%|██████████| 28420/28420 [00:37<00:00, 748.71it/s] \n"
     ]
    },
    {
     "name": "stdout",
     "output_type": "stream",
     "text": [
      "Epoch 95, Training Loss: 0.0017647187127278862\n",
      "Epoch 95, Test Loss: 0.002225560870163529\n"
     ]
    },
    {
     "name": "stderr",
     "output_type": "stream",
     "text": [
      "100%|██████████| 28420/28420 [00:37<00:00, 763.16it/s] \n"
     ]
    },
    {
     "name": "stdout",
     "output_type": "stream",
     "text": [
      "Epoch 96, Training Loss: 0.0017594233696516704\n",
      "Epoch 96, Test Loss: 0.0022228237135335496\n"
     ]
    },
    {
     "name": "stderr",
     "output_type": "stream",
     "text": [
      "100%|██████████| 28420/28420 [00:33<00:00, 856.92it/s] \n"
     ]
    },
    {
     "name": "stdout",
     "output_type": "stream",
     "text": [
      "Epoch 97, Training Loss: 0.001757453450761123\n",
      "Epoch 97, Test Loss: 0.0022071078133320972\n"
     ]
    },
    {
     "name": "stderr",
     "output_type": "stream",
     "text": [
      "100%|██████████| 28420/28420 [00:33<00:00, 841.91it/s] \n"
     ]
    },
    {
     "name": "stdout",
     "output_type": "stream",
     "text": [
      "Epoch 98, Training Loss: 0.0017604988209273245\n",
      "Epoch 98, Test Loss: 0.0022393245372158326\n"
     ]
    },
    {
     "name": "stderr",
     "output_type": "stream",
     "text": [
      "100%|██████████| 28420/28420 [00:37<00:00, 748.66it/s] \n"
     ]
    },
    {
     "name": "stdout",
     "output_type": "stream",
     "text": [
      "Epoch 99, Training Loss: 0.0017562461204153632\n",
      "Epoch 99, Test Loss: 0.0022059727415743194\n"
     ]
    },
    {
     "name": "stderr",
     "output_type": "stream",
     "text": [
      "100%|██████████| 28420/28420 [00:36<00:00, 769.24it/s] \n"
     ]
    },
    {
     "name": "stdout",
     "output_type": "stream",
     "text": [
      "Epoch 100, Training Loss: 0.0017490073828698215\n",
      "Epoch 100, Test Loss: 0.002219660651339085\n"
     ]
    },
    {
     "name": "stderr",
     "output_type": "stream",
     "text": [
      "100%|██████████| 28420/28420 [00:34<00:00, 833.54it/s] \n"
     ]
    },
    {
     "name": "stdout",
     "output_type": "stream",
     "text": [
      "Epoch 101, Training Loss: 0.0017478726321729498\n",
      "Epoch 101, Test Loss: 0.0022573591778019208\n"
     ]
    },
    {
     "name": "stderr",
     "output_type": "stream",
     "text": [
      "100%|██████████| 28420/28420 [00:37<00:00, 751.98it/s]\n"
     ]
    },
    {
     "name": "stdout",
     "output_type": "stream",
     "text": [
      "Epoch 102, Training Loss: 0.0017433623323364165\n",
      "Epoch 102, Test Loss: 0.0022560447249208426\n"
     ]
    },
    {
     "name": "stderr",
     "output_type": "stream",
     "text": [
      "100%|██████████| 28420/28420 [00:38<00:00, 733.72it/s]\n"
     ]
    },
    {
     "name": "stdout",
     "output_type": "stream",
     "text": [
      "Epoch 103, Training Loss: 0.0017397453779819092\n",
      "Epoch 103, Test Loss: 0.0022183947545730623\n"
     ]
    },
    {
     "name": "stderr",
     "output_type": "stream",
     "text": [
      "100%|██████████| 28420/28420 [00:37<00:00, 751.02it/s] \n"
     ]
    },
    {
     "name": "stdout",
     "output_type": "stream",
     "text": [
      "Epoch 104, Training Loss: 0.0017389632722238464\n",
      "Epoch 104, Test Loss: 0.0021961615839855893\n"
     ]
    },
    {
     "name": "stderr",
     "output_type": "stream",
     "text": [
      "100%|██████████| 28420/28420 [00:36<00:00, 774.28it/s] \n"
     ]
    },
    {
     "name": "stdout",
     "output_type": "stream",
     "text": [
      "Epoch 105, Training Loss: 0.0017326551655288203\n",
      "Epoch 105, Test Loss: 0.0022223158089577457\n"
     ]
    },
    {
     "name": "stderr",
     "output_type": "stream",
     "text": [
      "100%|██████████| 28420/28420 [00:35<00:00, 804.83it/s] \n"
     ]
    },
    {
     "name": "stdout",
     "output_type": "stream",
     "text": [
      "Epoch 106, Training Loss: 0.0017321399390621312\n",
      "Epoch 106, Test Loss: 0.0022820316446028957\n"
     ]
    },
    {
     "name": "stderr",
     "output_type": "stream",
     "text": [
      "100%|██████████| 28420/28420 [00:37<00:00, 762.26it/s] \n"
     ]
    },
    {
     "name": "stdout",
     "output_type": "stream",
     "text": [
      "Epoch 107, Training Loss: 0.00172983041013033\n",
      "Epoch 107, Test Loss: 0.0021879530674446916\n"
     ]
    },
    {
     "name": "stderr",
     "output_type": "stream",
     "text": [
      "100%|██████████| 28420/28420 [00:38<00:00, 743.57it/s] \n"
     ]
    },
    {
     "name": "stdout",
     "output_type": "stream",
     "text": [
      "Epoch 108, Training Loss: 0.0017261944328344036\n",
      "Epoch 108, Test Loss: 0.0023085928306320214\n"
     ]
    },
    {
     "name": "stderr",
     "output_type": "stream",
     "text": [
      "100%|██████████| 28420/28420 [00:38<00:00, 743.22it/s] \n"
     ]
    },
    {
     "name": "stdout",
     "output_type": "stream",
     "text": [
      "Epoch 109, Training Loss: 0.0017269614126742185\n",
      "Epoch 109, Test Loss: 0.002261642381098484\n"
     ]
    },
    {
     "name": "stderr",
     "output_type": "stream",
     "text": [
      "100%|██████████| 28420/28420 [00:37<00:00, 755.90it/s]\n"
     ]
    },
    {
     "name": "stdout",
     "output_type": "stream",
     "text": [
      "Epoch 110, Training Loss: 0.0017219391212451424\n",
      "Epoch 110, Test Loss: 0.0022182690038313768\n"
     ]
    },
    {
     "name": "stderr",
     "output_type": "stream",
     "text": [
      "100%|██████████| 28420/28420 [00:37<00:00, 757.88it/s] \n"
     ]
    },
    {
     "name": "stdout",
     "output_type": "stream",
     "text": [
      "Epoch 111, Training Loss: 0.001725060430414201\n",
      "Epoch 111, Test Loss: 0.002220300233315288\n"
     ]
    },
    {
     "name": "stderr",
     "output_type": "stream",
     "text": [
      "100%|██████████| 28420/28420 [00:36<00:00, 773.23it/s] \n"
     ]
    },
    {
     "name": "stdout",
     "output_type": "stream",
     "text": [
      "Epoch 112, Training Loss: 0.0017160401409732655\n",
      "Epoch 112, Test Loss: 0.00217954637792537\n"
     ]
    },
    {
     "name": "stderr",
     "output_type": "stream",
     "text": [
      "100%|██████████| 28420/28420 [00:34<00:00, 834.71it/s] \n"
     ]
    },
    {
     "name": "stdout",
     "output_type": "stream",
     "text": [
      "Epoch 113, Training Loss: 0.0017187137986276262\n",
      "Epoch 113, Test Loss: 0.002201971073909616\n"
     ]
    },
    {
     "name": "stderr",
     "output_type": "stream",
     "text": [
      "100%|██████████| 28420/28420 [00:35<00:00, 798.51it/s] \n"
     ]
    },
    {
     "name": "stdout",
     "output_type": "stream",
     "text": [
      "Epoch 114, Training Loss: 0.0017170074645505935\n",
      "Epoch 114, Test Loss: 0.002218257963609189\n"
     ]
    },
    {
     "name": "stderr",
     "output_type": "stream",
     "text": [
      "100%|██████████| 28420/28420 [00:38<00:00, 738.94it/s] \n"
     ]
    },
    {
     "name": "stdout",
     "output_type": "stream",
     "text": [
      "Epoch 115, Training Loss: 0.0017086770599437596\n",
      "Epoch 115, Test Loss: 0.002236107076175735\n"
     ]
    },
    {
     "name": "stderr",
     "output_type": "stream",
     "text": [
      "100%|██████████| 28420/28420 [00:38<00:00, 739.09it/s] \n"
     ]
    },
    {
     "name": "stdout",
     "output_type": "stream",
     "text": [
      "Epoch 116, Training Loss: 0.0017071625169583992\n",
      "Epoch 116, Test Loss: 0.0022560390946911296\n"
     ]
    },
    {
     "name": "stderr",
     "output_type": "stream",
     "text": [
      "100%|██████████| 28420/28420 [00:37<00:00, 758.50it/s] \n"
     ]
    },
    {
     "name": "stdout",
     "output_type": "stream",
     "text": [
      "Epoch 117, Training Loss: 0.001703788295246192\n",
      "Epoch 117, Test Loss: 0.002238226595130175\n"
     ]
    },
    {
     "name": "stderr",
     "output_type": "stream",
     "text": [
      "100%|██████████| 28420/28420 [00:36<00:00, 775.59it/s] \n"
     ]
    },
    {
     "name": "stdout",
     "output_type": "stream",
     "text": [
      "Epoch 118, Training Loss: 0.0017003856893771012\n",
      "Epoch 118, Test Loss: 0.0022531337820752215\n"
     ]
    },
    {
     "name": "stderr",
     "output_type": "stream",
     "text": [
      "100%|██████████| 28420/28420 [00:38<00:00, 739.43it/s]\n"
     ]
    },
    {
     "name": "stdout",
     "output_type": "stream",
     "text": [
      "Epoch 119, Training Loss: 0.0017039321028827362\n",
      "Epoch 119, Test Loss: 0.002206754531066626\n"
     ]
    },
    {
     "name": "stderr",
     "output_type": "stream",
     "text": [
      "100%|██████████| 28420/28420 [00:36<00:00, 783.41it/s] \n"
     ]
    },
    {
     "name": "stdout",
     "output_type": "stream",
     "text": [
      "Epoch 120, Training Loss: 0.0016990954833085855\n",
      "Epoch 120, Test Loss: 0.0022347612182123965\n"
     ]
    },
    {
     "name": "stderr",
     "output_type": "stream",
     "text": [
      "100%|██████████| 28420/28420 [00:38<00:00, 744.22it/s]\n"
     ]
    },
    {
     "name": "stdout",
     "output_type": "stream",
     "text": [
      "Epoch 121, Training Loss: 0.0016952253954265189\n",
      "Epoch 121, Test Loss: 0.002245768906151368\n"
     ]
    },
    {
     "name": "stderr",
     "output_type": "stream",
     "text": [
      "100%|██████████| 28420/28420 [00:38<00:00, 740.39it/s]\n"
     ]
    },
    {
     "name": "stdout",
     "output_type": "stream",
     "text": [
      "Epoch 122, Training Loss: 0.0016931317575409114\n",
      "Epoch 122, Test Loss: 0.0022540101291572403\n"
     ]
    },
    {
     "name": "stderr",
     "output_type": "stream",
     "text": [
      "100%|██████████| 28420/28420 [00:36<00:00, 783.96it/s] \n"
     ]
    },
    {
     "name": "stdout",
     "output_type": "stream",
     "text": [
      "Epoch 123, Training Loss: 0.0016891827362216945\n",
      "Epoch 123, Test Loss: 0.0022202745232917788\n"
     ]
    },
    {
     "name": "stderr",
     "output_type": "stream",
     "text": [
      "100%|██████████| 28420/28420 [00:37<00:00, 758.71it/s] \n"
     ]
    },
    {
     "name": "stdout",
     "output_type": "stream",
     "text": [
      "Epoch 124, Training Loss: 0.0016879697578654337\n",
      "Epoch 124, Test Loss: 0.0022241414178169124\n"
     ]
    },
    {
     "name": "stderr",
     "output_type": "stream",
     "text": [
      "100%|██████████| 28420/28420 [00:37<00:00, 756.97it/s] \n"
     ]
    },
    {
     "name": "stdout",
     "output_type": "stream",
     "text": [
      "Epoch 125, Training Loss: 0.0016854152486616043\n",
      "Epoch 125, Test Loss: 0.0022073259934490904\n"
     ]
    },
    {
     "name": "stderr",
     "output_type": "stream",
     "text": [
      "100%|██████████| 28420/28420 [00:38<00:00, 739.86it/s]\n"
     ]
    },
    {
     "name": "stdout",
     "output_type": "stream",
     "text": [
      "Epoch 126, Training Loss: 0.0016918700023081537\n",
      "Epoch 126, Test Loss: 0.0022082989119952615\n"
     ]
    },
    {
     "name": "stderr",
     "output_type": "stream",
     "text": [
      "100%|██████████| 28420/28420 [00:37<00:00, 751.22it/s] \n"
     ]
    },
    {
     "name": "stdout",
     "output_type": "stream",
     "text": [
      "Epoch 127, Training Loss: 0.0016822572755197023\n",
      "Epoch 127, Test Loss: 0.0022187974480190006\n"
     ]
    },
    {
     "name": "stderr",
     "output_type": "stream",
     "text": [
      "100%|██████████| 28420/28420 [00:36<00:00, 783.49it/s] \n"
     ]
    },
    {
     "name": "stdout",
     "output_type": "stream",
     "text": [
      "Epoch 128, Training Loss: 0.0016817861646038254\n",
      "Epoch 128, Test Loss: 0.0022277021152769527\n"
     ]
    },
    {
     "name": "stderr",
     "output_type": "stream",
     "text": [
      "100%|██████████| 28420/28420 [00:35<00:00, 794.47it/s] \n"
     ]
    },
    {
     "name": "stdout",
     "output_type": "stream",
     "text": [
      "Epoch 129, Training Loss: 0.0016793061740549941\n",
      "Epoch 129, Test Loss: 0.0021692090253308672\n"
     ]
    },
    {
     "name": "stderr",
     "output_type": "stream",
     "text": [
      "100%|██████████| 28420/28420 [00:37<00:00, 756.85it/s] \n"
     ]
    },
    {
     "name": "stdout",
     "output_type": "stream",
     "text": [
      "Epoch 130, Training Loss: 0.0016795812466561325\n",
      "Epoch 130, Test Loss: 0.00220807815133878\n"
     ]
    },
    {
     "name": "stderr",
     "output_type": "stream",
     "text": [
      "100%|██████████| 28420/28420 [00:37<00:00, 751.50it/s] \n"
     ]
    },
    {
     "name": "stdout",
     "output_type": "stream",
     "text": [
      "Epoch 131, Training Loss: 0.00167600842801101\n",
      "Epoch 131, Test Loss: 0.00221573339902792\n"
     ]
    },
    {
     "name": "stderr",
     "output_type": "stream",
     "text": [
      "100%|██████████| 28420/28420 [00:34<00:00, 817.83it/s] \n"
     ]
    },
    {
     "name": "stdout",
     "output_type": "stream",
     "text": [
      "Epoch 132, Training Loss: 0.0016756181063468775\n",
      "Epoch 132, Test Loss: 0.002226788566534229\n"
     ]
    },
    {
     "name": "stderr",
     "output_type": "stream",
     "text": [
      "100%|██████████| 28420/28420 [00:38<00:00, 734.03it/s]\n"
     ]
    },
    {
     "name": "stdout",
     "output_type": "stream",
     "text": [
      "Epoch 133, Training Loss: 0.0016740689475515413\n",
      "Epoch 133, Test Loss: 0.002251079444230733\n"
     ]
    },
    {
     "name": "stderr",
     "output_type": "stream",
     "text": [
      "100%|██████████| 28420/28420 [00:37<00:00, 752.09it/s] \n"
     ]
    },
    {
     "name": "stdout",
     "output_type": "stream",
     "text": [
      "Epoch 134, Training Loss: 0.0016685995338650557\n",
      "Epoch 134, Test Loss: 0.0022304379410744944\n"
     ]
    },
    {
     "name": "stderr",
     "output_type": "stream",
     "text": [
      "100%|██████████| 28420/28420 [00:33<00:00, 838.01it/s] \n"
     ]
    },
    {
     "name": "stdout",
     "output_type": "stream",
     "text": [
      "Epoch 135, Training Loss: 0.0016696648323185459\n",
      "Epoch 135, Test Loss: 0.002194302792519754\n"
     ]
    },
    {
     "name": "stderr",
     "output_type": "stream",
     "text": [
      "100%|██████████| 28420/28420 [00:37<00:00, 762.44it/s] \n"
     ]
    },
    {
     "name": "stdout",
     "output_type": "stream",
     "text": [
      "Epoch 136, Training Loss: 0.001666857976054043\n",
      "Epoch 136, Test Loss: 0.0022113683536524923\n"
     ]
    },
    {
     "name": "stderr",
     "output_type": "stream",
     "text": [
      "100%|██████████| 28420/28420 [00:38<00:00, 747.11it/s] \n"
     ]
    },
    {
     "name": "stdout",
     "output_type": "stream",
     "text": [
      "Epoch 137, Training Loss: 0.0016650395746971934\n",
      "Epoch 137, Test Loss: 0.0022078126330717196\n"
     ]
    },
    {
     "name": "stderr",
     "output_type": "stream",
     "text": [
      "100%|██████████| 28420/28420 [00:38<00:00, 743.59it/s]\n"
     ]
    },
    {
     "name": "stdout",
     "output_type": "stream",
     "text": [
      "Epoch 138, Training Loss: 0.0016609361764762054\n",
      "Epoch 138, Test Loss: 0.0022015455291610666\n"
     ]
    },
    {
     "name": "stderr",
     "output_type": "stream",
     "text": [
      "100%|██████████| 28420/28420 [00:36<00:00, 786.08it/s] \n"
     ]
    },
    {
     "name": "stdout",
     "output_type": "stream",
     "text": [
      "Epoch 139, Training Loss: 0.001658739383073117\n",
      "Epoch 139, Test Loss: 0.002237642551846149\n"
     ]
    },
    {
     "name": "stderr",
     "output_type": "stream",
     "text": [
      "100%|██████████| 28420/28420 [00:36<00:00, 785.75it/s] \n"
     ]
    },
    {
     "name": "stdout",
     "output_type": "stream",
     "text": [
      "Epoch 140, Training Loss: 0.0016606750747600373\n",
      "Epoch 140, Test Loss: 0.0021808767918219613\n"
     ]
    },
    {
     "name": "stderr",
     "output_type": "stream",
     "text": [
      "100%|██████████| 28420/28420 [00:36<00:00, 773.88it/s] \n"
     ]
    },
    {
     "name": "stdout",
     "output_type": "stream",
     "text": [
      "Epoch 141, Training Loss: 0.0016564867158484126\n",
      "Epoch 141, Test Loss: 0.002201128187925817\n"
     ]
    },
    {
     "name": "stderr",
     "output_type": "stream",
     "text": [
      "100%|██████████| 28420/28420 [00:37<00:00, 751.75it/s] \n"
     ]
    },
    {
     "name": "stdout",
     "output_type": "stream",
     "text": [
      "Epoch 142, Training Loss: 0.0016558233189087595\n",
      "Epoch 142, Test Loss: 0.002224876344956407\n"
     ]
    },
    {
     "name": "stderr",
     "output_type": "stream",
     "text": [
      "100%|██████████| 28420/28420 [00:37<00:00, 759.45it/s] \n"
     ]
    },
    {
     "name": "stdout",
     "output_type": "stream",
     "text": [
      "Epoch 143, Training Loss: 0.0016483524651812074\n",
      "Epoch 143, Test Loss: 0.0021961557330471785\n"
     ]
    },
    {
     "name": "stderr",
     "output_type": "stream",
     "text": [
      "100%|██████████| 28420/28420 [00:36<00:00, 768.87it/s] \n"
     ]
    },
    {
     "name": "stdout",
     "output_type": "stream",
     "text": [
      "Epoch 144, Training Loss: 0.0016524823205817407\n",
      "Epoch 144, Test Loss: 0.0021983856304254867\n"
     ]
    },
    {
     "name": "stderr",
     "output_type": "stream",
     "text": [
      "100%|██████████| 28420/28420 [00:37<00:00, 764.22it/s] \n"
     ]
    },
    {
     "name": "stdout",
     "output_type": "stream",
     "text": [
      "Epoch 145, Training Loss: 0.0016514309837044687\n",
      "Epoch 145, Test Loss: 0.002189650053815357\n"
     ]
    },
    {
     "name": "stderr",
     "output_type": "stream",
     "text": [
      "100%|██████████| 28420/28420 [00:33<00:00, 845.38it/s] \n"
     ]
    },
    {
     "name": "stdout",
     "output_type": "stream",
     "text": [
      "Epoch 146, Training Loss: 0.0016499891232377515\n",
      "Epoch 146, Test Loss: 0.0022016203915406975\n"
     ]
    },
    {
     "name": "stderr",
     "output_type": "stream",
     "text": [
      "100%|██████████| 28420/28420 [00:35<00:00, 805.04it/s] \n"
     ]
    },
    {
     "name": "stdout",
     "output_type": "stream",
     "text": [
      "Epoch 147, Training Loss: 0.0016470274541690363\n",
      "Epoch 147, Test Loss: 0.0022191543180788784\n"
     ]
    },
    {
     "name": "stderr",
     "output_type": "stream",
     "text": [
      "100%|██████████| 28420/28420 [00:38<00:00, 746.57it/s] \n"
     ]
    },
    {
     "name": "stdout",
     "output_type": "stream",
     "text": [
      "Epoch 148, Training Loss: 0.0016480087209917523\n",
      "Epoch 148, Test Loss: 0.0022620352753770227\n"
     ]
    },
    {
     "name": "stderr",
     "output_type": "stream",
     "text": [
      "100%|██████████| 28420/28420 [00:35<00:00, 808.92it/s] \n"
     ]
    },
    {
     "name": "stdout",
     "output_type": "stream",
     "text": [
      "Epoch 149, Training Loss: 0.001645250406116447\n",
      "Epoch 149, Test Loss: 0.002240456900907356\n"
     ]
    },
    {
     "name": "stderr",
     "output_type": "stream",
     "text": [
      "100%|██████████| 28420/28420 [00:31<00:00, 906.57it/s] \n"
     ]
    },
    {
     "name": "stdout",
     "output_type": "stream",
     "text": [
      "Epoch 150, Training Loss: 0.001643989174230318\n",
      "Epoch 150, Test Loss: 0.002204613106879974\n"
     ]
    },
    {
     "name": "stderr",
     "output_type": "stream",
     "text": [
      "100%|██████████| 28420/28420 [00:37<00:00, 766.91it/s] \n"
     ]
    },
    {
     "name": "stdout",
     "output_type": "stream",
     "text": [
      "Epoch 151, Training Loss: 0.0016404409154365939\n",
      "Epoch 151, Test Loss: 0.002218828455820081\n"
     ]
    },
    {
     "name": "stderr",
     "output_type": "stream",
     "text": [
      "100%|██████████| 28420/28420 [00:36<00:00, 775.27it/s] \n"
     ]
    },
    {
     "name": "stdout",
     "output_type": "stream",
     "text": [
      "Epoch 152, Training Loss: 0.0016365348178055924\n",
      "Epoch 152, Test Loss: 0.0022186114828191034\n"
     ]
    },
    {
     "name": "stderr",
     "output_type": "stream",
     "text": [
      "100%|██████████| 28420/28420 [00:35<00:00, 795.69it/s] \n"
     ]
    },
    {
     "name": "stdout",
     "output_type": "stream",
     "text": [
      "Epoch 153, Training Loss: 0.0016397861505347087\n",
      "Epoch 153, Test Loss: 0.002249957275510041\n"
     ]
    },
    {
     "name": "stderr",
     "output_type": "stream",
     "text": [
      "100%|██████████| 28420/28420 [00:37<00:00, 749.62it/s] \n"
     ]
    },
    {
     "name": "stdout",
     "output_type": "stream",
     "text": [
      "Epoch 154, Training Loss: 0.0016375242642148796\n",
      "Epoch 154, Test Loss: 0.0022222857168931343\n"
     ]
    },
    {
     "name": "stderr",
     "output_type": "stream",
     "text": [
      "100%|██████████| 28420/28420 [00:37<00:00, 757.36it/s] \n"
     ]
    },
    {
     "name": "stdout",
     "output_type": "stream",
     "text": [
      "Epoch 155, Training Loss: 0.0016364965327480324\n",
      "Epoch 155, Test Loss: 0.0022151592113217647\n"
     ]
    },
    {
     "name": "stderr",
     "output_type": "stream",
     "text": [
      "100%|██████████| 28420/28420 [00:33<00:00, 842.86it/s] \n"
     ]
    },
    {
     "name": "stdout",
     "output_type": "stream",
     "text": [
      "Epoch 156, Training Loss: 0.001632558909428655\n",
      "Epoch 156, Test Loss: 0.0021824383257573075\n"
     ]
    },
    {
     "name": "stderr",
     "output_type": "stream",
     "text": [
      "100%|██████████| 28420/28420 [00:35<00:00, 796.36it/s] \n"
     ]
    },
    {
     "name": "stdout",
     "output_type": "stream",
     "text": [
      "Epoch 157, Training Loss: 0.0016314700263213963\n",
      "Epoch 157, Test Loss: 0.002227631737159205\n"
     ]
    },
    {
     "name": "stderr",
     "output_type": "stream",
     "text": [
      "100%|██████████| 28420/28420 [00:37<00:00, 748.60it/s] \n"
     ]
    },
    {
     "name": "stdout",
     "output_type": "stream",
     "text": [
      "Epoch 158, Training Loss: 0.0016311771227099036\n",
      "Epoch 158, Test Loss: 0.002192516282438441\n"
     ]
    },
    {
     "name": "stderr",
     "output_type": "stream",
     "text": [
      "100%|██████████| 28420/28420 [00:37<00:00, 752.99it/s] \n"
     ]
    },
    {
     "name": "stdout",
     "output_type": "stream",
     "text": [
      "Epoch 159, Training Loss: 0.0016261622503136069\n",
      "Epoch 159, Test Loss: 0.0022033993993531057\n"
     ]
    },
    {
     "name": "stderr",
     "output_type": "stream",
     "text": [
      "100%|██████████| 28420/28420 [00:36<00:00, 774.89it/s] \n"
     ]
    },
    {
     "name": "stdout",
     "output_type": "stream",
     "text": [
      "Epoch 160, Training Loss: 0.001627928307333106\n",
      "Epoch 160, Test Loss: 0.002185468210845767\n"
     ]
    },
    {
     "name": "stderr",
     "output_type": "stream",
     "text": [
      "100%|██████████| 28420/28420 [00:36<00:00, 772.33it/s] \n"
     ]
    },
    {
     "name": "stdout",
     "output_type": "stream",
     "text": [
      "Epoch 161, Training Loss: 0.0016271510379662329\n",
      "Epoch 161, Test Loss: 0.002194579607462237\n"
     ]
    },
    {
     "name": "stderr",
     "output_type": "stream",
     "text": [
      "100%|██████████| 28420/28420 [00:36<00:00, 770.28it/s] \n"
     ]
    },
    {
     "name": "stdout",
     "output_type": "stream",
     "text": [
      "Epoch 162, Training Loss: 0.0016252577122914265\n",
      "Epoch 162, Test Loss: 0.0022031392240768975\n"
     ]
    },
    {
     "name": "stderr",
     "output_type": "stream",
     "text": [
      "100%|██████████| 28420/28420 [00:38<00:00, 736.52it/s]\n"
     ]
    },
    {
     "name": "stdout",
     "output_type": "stream",
     "text": [
      "Epoch 163, Training Loss: 0.0016215508734783177\n",
      "Epoch 163, Test Loss: 0.0022038407194334628\n"
     ]
    },
    {
     "name": "stderr",
     "output_type": "stream",
     "text": [
      "100%|██████████| 28420/28420 [00:37<00:00, 763.51it/s] \n"
     ]
    },
    {
     "name": "stdout",
     "output_type": "stream",
     "text": [
      "Epoch 164, Training Loss: 0.0016224845289905922\n",
      "Epoch 164, Test Loss: 0.0022166196255866796\n"
     ]
    },
    {
     "name": "stderr",
     "output_type": "stream",
     "text": [
      "100%|██████████| 28420/28420 [00:36<00:00, 783.03it/s] \n"
     ]
    },
    {
     "name": "stdout",
     "output_type": "stream",
     "text": [
      "Epoch 165, Training Loss: 0.0016204547586362644\n",
      "Epoch 165, Test Loss: 0.002201881717417229\n"
     ]
    },
    {
     "name": "stderr",
     "output_type": "stream",
     "text": [
      "100%|██████████| 28420/28420 [00:38<00:00, 740.58it/s] \n"
     ]
    },
    {
     "name": "stdout",
     "output_type": "stream",
     "text": [
      "Epoch 166, Training Loss: 0.0016177302152735305\n",
      "Epoch 166, Test Loss: 0.002206380732235099\n"
     ]
    },
    {
     "name": "stderr",
     "output_type": "stream",
     "text": [
      "100%|██████████| 28420/28420 [00:38<00:00, 745.73it/s] \n"
     ]
    },
    {
     "name": "stdout",
     "output_type": "stream",
     "text": [
      "Epoch 167, Training Loss: 0.0016150696125149834\n",
      "Epoch 167, Test Loss: 0.00217987591508253\n"
     ]
    },
    {
     "name": "stderr",
     "output_type": "stream",
     "text": [
      "100%|██████████| 28420/28420 [00:37<00:00, 750.83it/s]\n"
     ]
    },
    {
     "name": "stdout",
     "output_type": "stream",
     "text": [
      "Epoch 168, Training Loss: 0.001617175478206019\n",
      "Epoch 168, Test Loss: 0.002202735496796792\n"
     ]
    },
    {
     "name": "stderr",
     "output_type": "stream",
     "text": [
      "100%|██████████| 28420/28420 [00:37<00:00, 749.90it/s] \n"
     ]
    },
    {
     "name": "stdout",
     "output_type": "stream",
     "text": [
      "Epoch 169, Training Loss: 0.0016120804754317978\n",
      "Epoch 169, Test Loss: 0.0021937009433025097\n"
     ]
    },
    {
     "name": "stderr",
     "output_type": "stream",
     "text": [
      "100%|██████████| 28420/28420 [00:37<00:00, 752.70it/s] \n"
     ]
    },
    {
     "name": "stdout",
     "output_type": "stream",
     "text": [
      "Epoch 170, Training Loss: 0.0016124187271773086\n",
      "Epoch 170, Test Loss: 0.0022215097797704795\n"
     ]
    },
    {
     "name": "stderr",
     "output_type": "stream",
     "text": [
      "100%|██████████| 28420/28420 [00:37<00:00, 748.15it/s] \n"
     ]
    },
    {
     "name": "stdout",
     "output_type": "stream",
     "text": [
      "Epoch 171, Training Loss: 0.0016139539290316335\n",
      "Epoch 171, Test Loss: 0.0022157868716835634\n"
     ]
    },
    {
     "name": "stderr",
     "output_type": "stream",
     "text": [
      "100%|██████████| 28420/28420 [00:37<00:00, 748.30it/s]\n"
     ]
    },
    {
     "name": "stdout",
     "output_type": "stream",
     "text": [
      "Epoch 172, Training Loss: 0.0016121024419035364\n",
      "Epoch 172, Test Loss: 0.0022507211535136803\n"
     ]
    },
    {
     "name": "stderr",
     "output_type": "stream",
     "text": [
      "100%|██████████| 28420/28420 [00:38<00:00, 737.62it/s]\n"
     ]
    },
    {
     "name": "stdout",
     "output_type": "stream",
     "text": [
      "Epoch 173, Training Loss: 0.0016067100973083735\n",
      "Epoch 173, Test Loss: 0.0022046380315412922\n"
     ]
    },
    {
     "name": "stderr",
     "output_type": "stream",
     "text": [
      "100%|██████████| 28420/28420 [00:37<00:00, 762.64it/s] \n"
     ]
    },
    {
     "name": "stdout",
     "output_type": "stream",
     "text": [
      "Epoch 174, Training Loss: 0.0016073402380496807\n",
      "Epoch 174, Test Loss: 0.0022483172038996516\n"
     ]
    },
    {
     "name": "stderr",
     "output_type": "stream",
     "text": [
      "100%|██████████| 28420/28420 [00:36<00:00, 787.60it/s] \n"
     ]
    },
    {
     "name": "stdout",
     "output_type": "stream",
     "text": [
      "Epoch 175, Training Loss: 0.0016037323184688443\n",
      "Epoch 175, Test Loss: 0.002223048852760433\n"
     ]
    },
    {
     "name": "stderr",
     "output_type": "stream",
     "text": [
      "100%|██████████| 28420/28420 [00:35<00:00, 799.03it/s] \n"
     ]
    },
    {
     "name": "stdout",
     "output_type": "stream",
     "text": [
      "Epoch 176, Training Loss: 0.0016061796971430747\n",
      "Epoch 176, Test Loss: 0.0021968944873972038\n"
     ]
    },
    {
     "name": "stderr",
     "output_type": "stream",
     "text": [
      "100%|██████████| 28420/28420 [00:37<00:00, 763.52it/s]\n"
     ]
    },
    {
     "name": "stdout",
     "output_type": "stream",
     "text": [
      "Epoch 177, Training Loss: 0.0016068947634214964\n",
      "Epoch 177, Test Loss: 0.002171737407573844\n"
     ]
    },
    {
     "name": "stderr",
     "output_type": "stream",
     "text": [
      "100%|██████████| 28420/28420 [00:36<00:00, 785.04it/s] \n"
     ]
    },
    {
     "name": "stdout",
     "output_type": "stream",
     "text": [
      "Epoch 178, Training Loss: 0.0016070577210838392\n",
      "Epoch 178, Test Loss: 0.002225580722695266\n"
     ]
    },
    {
     "name": "stderr",
     "output_type": "stream",
     "text": [
      "100%|██████████| 28420/28420 [00:36<00:00, 786.95it/s] \n"
     ]
    },
    {
     "name": "stdout",
     "output_type": "stream",
     "text": [
      "Epoch 179, Training Loss: 0.0016049291236976645\n",
      "Epoch 179, Test Loss: 0.002183297249733327\n"
     ]
    },
    {
     "name": "stderr",
     "output_type": "stream",
     "text": [
      "100%|██████████| 28420/28420 [00:35<00:00, 790.75it/s] \n"
     ]
    },
    {
     "name": "stdout",
     "output_type": "stream",
     "text": [
      "Epoch 180, Training Loss: 0.0015992571495216823\n",
      "Epoch 180, Test Loss: 0.0022036022210885657\n"
     ]
    },
    {
     "name": "stderr",
     "output_type": "stream",
     "text": [
      "100%|██████████| 28420/28420 [00:37<00:00, 766.78it/s]\n"
     ]
    },
    {
     "name": "stdout",
     "output_type": "stream",
     "text": [
      "Epoch 181, Training Loss: 0.0016018473956819275\n",
      "Epoch 181, Test Loss: 0.002227069221604306\n"
     ]
    },
    {
     "name": "stderr",
     "output_type": "stream",
     "text": [
      "100%|██████████| 28420/28420 [00:35<00:00, 789.88it/s] \n"
     ]
    },
    {
     "name": "stdout",
     "output_type": "stream",
     "text": [
      "Epoch 182, Training Loss: 0.0016009470568155383\n",
      "Epoch 182, Test Loss: 0.002261917746604636\n"
     ]
    },
    {
     "name": "stderr",
     "output_type": "stream",
     "text": [
      "100%|██████████| 28420/28420 [00:38<00:00, 736.73it/s]\n"
     ]
    },
    {
     "name": "stdout",
     "output_type": "stream",
     "text": [
      "Epoch 183, Training Loss: 0.0015980965995211214\n",
      "Epoch 183, Test Loss: 0.00223394632161427\n"
     ]
    },
    {
     "name": "stderr",
     "output_type": "stream",
     "text": [
      "100%|██████████| 28420/28420 [00:37<00:00, 755.21it/s] \n"
     ]
    },
    {
     "name": "stdout",
     "output_type": "stream",
     "text": [
      "Epoch 184, Training Loss: 0.0015932811810090894\n",
      "Epoch 184, Test Loss: 0.002238814287216838\n"
     ]
    },
    {
     "name": "stderr",
     "output_type": "stream",
     "text": [
      "100%|██████████| 28420/28420 [00:38<00:00, 739.90it/s]\n"
     ]
    },
    {
     "name": "stdout",
     "output_type": "stream",
     "text": [
      "Epoch 185, Training Loss: 0.0015950239771338446\n",
      "Epoch 185, Test Loss: 0.0022256255903802826\n"
     ]
    },
    {
     "name": "stderr",
     "output_type": "stream",
     "text": [
      "100%|██████████| 28420/28420 [00:33<00:00, 845.91it/s] \n"
     ]
    },
    {
     "name": "stdout",
     "output_type": "stream",
     "text": [
      "Epoch 186, Training Loss: 0.0015982742176110273\n",
      "Epoch 186, Test Loss: 0.00220176434031798\n"
     ]
    },
    {
     "name": "stderr",
     "output_type": "stream",
     "text": [
      "100%|██████████| 28420/28420 [00:38<00:00, 741.08it/s] \n"
     ]
    },
    {
     "name": "stdout",
     "output_type": "stream",
     "text": [
      "Epoch 187, Training Loss: 0.0015953227764985629\n",
      "Epoch 187, Test Loss: 0.0022191285491126134\n"
     ]
    },
    {
     "name": "stderr",
     "output_type": "stream",
     "text": [
      "100%|██████████| 28420/28420 [00:38<00:00, 732.70it/s]\n"
     ]
    },
    {
     "name": "stdout",
     "output_type": "stream",
     "text": [
      "Epoch 188, Training Loss: 0.0015927519598005874\n",
      "Epoch 188, Test Loss: 0.0021935629320384356\n"
     ]
    },
    {
     "name": "stderr",
     "output_type": "stream",
     "text": [
      "100%|██████████| 28420/28420 [00:30<00:00, 946.79it/s] \n"
     ]
    },
    {
     "name": "stdout",
     "output_type": "stream",
     "text": [
      "Epoch 189, Training Loss: 0.0015892623231283363\n",
      "Epoch 189, Test Loss: 0.0022009468244505405\n"
     ]
    },
    {
     "name": "stderr",
     "output_type": "stream",
     "text": [
      "100%|██████████| 28420/28420 [00:38<00:00, 744.93it/s]\n"
     ]
    },
    {
     "name": "stdout",
     "output_type": "stream",
     "text": [
      "Epoch 190, Training Loss: 0.0015925669239522347\n",
      "Epoch 190, Test Loss: 0.002197871269358131\n"
     ]
    },
    {
     "name": "stderr",
     "output_type": "stream",
     "text": [
      "100%|██████████| 28420/28420 [00:37<00:00, 750.58it/s] \n"
     ]
    },
    {
     "name": "stdout",
     "output_type": "stream",
     "text": [
      "Epoch 191, Training Loss: 0.001592989797070326\n",
      "Epoch 191, Test Loss: 0.0022325638665003124\n"
     ]
    },
    {
     "name": "stderr",
     "output_type": "stream",
     "text": [
      "100%|██████████| 28420/28420 [00:33<00:00, 839.11it/s] \n"
     ]
    },
    {
     "name": "stdout",
     "output_type": "stream",
     "text": [
      "Epoch 192, Training Loss: 0.0015872445678439377\n",
      "Epoch 192, Test Loss: 0.002200619549680926\n"
     ]
    },
    {
     "name": "stderr",
     "output_type": "stream",
     "text": [
      "100%|██████████| 28420/28420 [00:36<00:00, 786.94it/s] \n"
     ]
    },
    {
     "name": "stdout",
     "output_type": "stream",
     "text": [
      "Epoch 193, Training Loss: 0.00159140990530682\n",
      "Epoch 193, Test Loss: 0.0021900879955891253\n"
     ]
    },
    {
     "name": "stderr",
     "output_type": "stream",
     "text": [
      "100%|██████████| 28420/28420 [00:34<00:00, 819.16it/s] \n"
     ]
    },
    {
     "name": "stdout",
     "output_type": "stream",
     "text": [
      "Epoch 194, Training Loss: 0.0015861633197596012\n",
      "Epoch 194, Test Loss: 0.0022208124020856312\n"
     ]
    },
    {
     "name": "stderr",
     "output_type": "stream",
     "text": [
      "100%|██████████| 28420/28420 [00:35<00:00, 798.39it/s] \n"
     ]
    },
    {
     "name": "stdout",
     "output_type": "stream",
     "text": [
      "Epoch 195, Training Loss: 0.001585790618979057\n",
      "Epoch 195, Test Loss: 0.0022044690596874587\n"
     ]
    },
    {
     "name": "stderr",
     "output_type": "stream",
     "text": [
      "100%|██████████| 28420/28420 [00:37<00:00, 767.36it/s] \n"
     ]
    },
    {
     "name": "stdout",
     "output_type": "stream",
     "text": [
      "Epoch 196, Training Loss: 0.0015842690155701178\n",
      "Epoch 196, Test Loss: 0.0021902362844414074\n"
     ]
    },
    {
     "name": "stderr",
     "output_type": "stream",
     "text": [
      "100%|██████████| 28420/28420 [00:36<00:00, 782.36it/s] \n"
     ]
    },
    {
     "name": "stdout",
     "output_type": "stream",
     "text": [
      "Epoch 197, Training Loss: 0.0015845877121625834\n",
      "Epoch 197, Test Loss: 0.0022179000755794174\n"
     ]
    },
    {
     "name": "stderr",
     "output_type": "stream",
     "text": [
      "100%|██████████| 28420/28420 [00:38<00:00, 739.00it/s] \n"
     ]
    },
    {
     "name": "stdout",
     "output_type": "stream",
     "text": [
      "Epoch 198, Training Loss: 0.0015812930099522954\n",
      "Epoch 198, Test Loss: 0.0022347362401184826\n"
     ]
    },
    {
     "name": "stderr",
     "output_type": "stream",
     "text": [
      "100%|██████████| 28420/28420 [00:37<00:00, 766.57it/s] \n"
     ]
    },
    {
     "name": "stdout",
     "output_type": "stream",
     "text": [
      "Epoch 199, Training Loss: 0.0015828555683409455\n",
      "Epoch 199, Test Loss: 0.0022489545943293423\n"
     ]
    },
    {
     "name": "stderr",
     "output_type": "stream",
     "text": [
      "100%|██████████| 28420/28420 [00:37<00:00, 763.18it/s]\n"
     ]
    },
    {
     "name": "stdout",
     "output_type": "stream",
     "text": [
      "Epoch 200, Training Loss: 0.0015800533207726097\n",
      "Epoch 200, Test Loss: 0.0022023752454027458\n"
     ]
    },
    {
     "name": "stderr",
     "output_type": "stream",
     "text": [
      "100%|██████████| 28420/28420 [00:35<00:00, 791.83it/s] \n"
     ]
    },
    {
     "name": "stdout",
     "output_type": "stream",
     "text": [
      "Epoch 201, Training Loss: 0.0015779142851552652\n",
      "Epoch 201, Test Loss: 0.00228618618560683\n"
     ]
    },
    {
     "name": "stderr",
     "output_type": "stream",
     "text": [
      "100%|██████████| 28420/28420 [00:34<00:00, 820.22it/s] \n"
     ]
    },
    {
     "name": "stdout",
     "output_type": "stream",
     "text": [
      "Epoch 202, Training Loss: 0.0015805623705427761\n",
      "Epoch 202, Test Loss: 0.002188352160653673\n"
     ]
    },
    {
     "name": "stderr",
     "output_type": "stream",
     "text": [
      "100%|██████████| 28420/28420 [00:36<00:00, 771.74it/s] \n"
     ]
    },
    {
     "name": "stdout",
     "output_type": "stream",
     "text": [
      "Epoch 203, Training Loss: 0.001576276303966661\n",
      "Epoch 203, Test Loss: 0.0022101163256520034\n"
     ]
    },
    {
     "name": "stderr",
     "output_type": "stream",
     "text": [
      "100%|██████████| 28420/28420 [00:36<00:00, 769.07it/s] \n"
     ]
    },
    {
     "name": "stdout",
     "output_type": "stream",
     "text": [
      "Epoch 204, Training Loss: 0.0015776570243406529\n",
      "Epoch 204, Test Loss: 0.002196679922878443\n"
     ]
    },
    {
     "name": "stderr",
     "output_type": "stream",
     "text": [
      "100%|██████████| 28420/28420 [00:38<00:00, 741.09it/s] \n"
     ]
    },
    {
     "name": "stdout",
     "output_type": "stream",
     "text": [
      "Epoch 205, Training Loss: 0.0015763153682840975\n",
      "Epoch 205, Test Loss: 0.0022628506881835885\n"
     ]
    },
    {
     "name": "stderr",
     "output_type": "stream",
     "text": [
      "100%|██████████| 28420/28420 [00:38<00:00, 742.96it/s] \n"
     ]
    },
    {
     "name": "stdout",
     "output_type": "stream",
     "text": [
      "Epoch 206, Training Loss: 0.0015754499789973272\n",
      "Epoch 206, Test Loss: 0.002198243202553844\n"
     ]
    },
    {
     "name": "stderr",
     "output_type": "stream",
     "text": [
      "100%|██████████| 28420/28420 [00:34<00:00, 815.71it/s] \n"
     ]
    },
    {
     "name": "stdout",
     "output_type": "stream",
     "text": [
      "Epoch 207, Training Loss: 0.001573907173163979\n",
      "Epoch 207, Test Loss: 0.00219171986726795\n"
     ]
    },
    {
     "name": "stderr",
     "output_type": "stream",
     "text": [
      "100%|██████████| 28420/28420 [00:38<00:00, 740.95it/s] \n"
     ]
    },
    {
     "name": "stdout",
     "output_type": "stream",
     "text": [
      "Epoch 208, Training Loss: 0.0015749609899709351\n",
      "Epoch 208, Test Loss: 0.002217384198694535\n"
     ]
    },
    {
     "name": "stderr",
     "output_type": "stream",
     "text": [
      "100%|██████████| 28420/28420 [00:37<00:00, 758.88it/s] \n"
     ]
    },
    {
     "name": "stdout",
     "output_type": "stream",
     "text": [
      "Epoch 209, Training Loss: 0.0015749256392597981\n",
      "Epoch 209, Test Loss: 0.002229412259008228\n"
     ]
    },
    {
     "name": "stderr",
     "output_type": "stream",
     "text": [
      "100%|██████████| 28420/28420 [00:35<00:00, 798.19it/s] \n"
     ]
    },
    {
     "name": "stdout",
     "output_type": "stream",
     "text": [
      "Epoch 210, Training Loss: 0.0015728966308754594\n",
      "Epoch 210, Test Loss: 0.002247098144693045\n"
     ]
    },
    {
     "name": "stderr",
     "output_type": "stream",
     "text": [
      "100%|██████████| 28420/28420 [00:37<00:00, 754.09it/s] \n"
     ]
    },
    {
     "name": "stdout",
     "output_type": "stream",
     "text": [
      "Epoch 211, Training Loss: 0.00157057293144417\n",
      "Epoch 211, Test Loss: 0.0022323406408642334\n"
     ]
    },
    {
     "name": "stderr",
     "output_type": "stream",
     "text": [
      "100%|██████████| 28420/28420 [00:37<00:00, 764.56it/s] \n"
     ]
    },
    {
     "name": "stdout",
     "output_type": "stream",
     "text": [
      "Epoch 212, Training Loss: 0.0015702839369724174\n",
      "Epoch 212, Test Loss: 0.002209345325583416\n"
     ]
    },
    {
     "name": "stderr",
     "output_type": "stream",
     "text": [
      "100%|██████████| 28420/28420 [00:38<00:00, 744.47it/s] \n"
     ]
    },
    {
     "name": "stdout",
     "output_type": "stream",
     "text": [
      "Epoch 213, Training Loss: 0.001568683551590686\n",
      "Epoch 213, Test Loss: 0.002249763678641275\n"
     ]
    },
    {
     "name": "stderr",
     "output_type": "stream",
     "text": [
      "100%|██████████| 28420/28420 [00:37<00:00, 750.06it/s]\n"
     ]
    },
    {
     "name": "stdout",
     "output_type": "stream",
     "text": [
      "Epoch 214, Training Loss: 0.0015674614016040593\n",
      "Epoch 214, Test Loss: 0.0022362242831814533\n"
     ]
    },
    {
     "name": "stderr",
     "output_type": "stream",
     "text": [
      "100%|██████████| 28420/28420 [00:34<00:00, 813.06it/s] \n"
     ]
    },
    {
     "name": "stdout",
     "output_type": "stream",
     "text": [
      "Epoch 215, Training Loss: 0.0015665695073470774\n",
      "Epoch 215, Test Loss: 0.002246831333505873\n"
     ]
    },
    {
     "name": "stderr",
     "output_type": "stream",
     "text": [
      "100%|██████████| 28420/28420 [00:32<00:00, 870.76it/s] \n"
     ]
    },
    {
     "name": "stdout",
     "output_type": "stream",
     "text": [
      "Epoch 216, Training Loss: 0.0015638726035029527\n",
      "Epoch 216, Test Loss: 0.0022291047071981655\n"
     ]
    },
    {
     "name": "stderr",
     "output_type": "stream",
     "text": [
      "100%|██████████| 28420/28420 [00:33<00:00, 860.39it/s] \n"
     ]
    },
    {
     "name": "stdout",
     "output_type": "stream",
     "text": [
      "Epoch 217, Training Loss: 0.001566766841727416\n",
      "Epoch 217, Test Loss: 0.0022357078752010782\n"
     ]
    },
    {
     "name": "stderr",
     "output_type": "stream",
     "text": [
      "100%|██████████| 28420/28420 [00:38<00:00, 743.19it/s] \n"
     ]
    },
    {
     "name": "stdout",
     "output_type": "stream",
     "text": [
      "Epoch 218, Training Loss: 0.00156319657524517\n",
      "Epoch 218, Test Loss: 0.002219721945614574\n"
     ]
    },
    {
     "name": "stderr",
     "output_type": "stream",
     "text": [
      "100%|██████████| 28420/28420 [00:38<00:00, 747.52it/s] \n"
     ]
    },
    {
     "name": "stdout",
     "output_type": "stream",
     "text": [
      "Epoch 219, Training Loss: 0.0015626670940357501\n",
      "Epoch 219, Test Loss: 0.002207852331451323\n"
     ]
    },
    {
     "name": "stderr",
     "output_type": "stream",
     "text": [
      "100%|██████████| 28420/28420 [00:35<00:00, 804.09it/s] \n"
     ]
    },
    {
     "name": "stdout",
     "output_type": "stream",
     "text": [
      "Epoch 220, Training Loss: 0.0015618523369390488\n",
      "Epoch 220, Test Loss: 0.002246975745162186\n"
     ]
    },
    {
     "name": "stderr",
     "output_type": "stream",
     "text": [
      "100%|██████████| 28420/28420 [00:37<00:00, 760.21it/s] \n"
     ]
    },
    {
     "name": "stdout",
     "output_type": "stream",
     "text": [
      "Epoch 221, Training Loss: 0.0015636655531003215\n",
      "Epoch 221, Test Loss: 0.0022218125453039245\n"
     ]
    },
    {
     "name": "stderr",
     "output_type": "stream",
     "text": [
      "100%|██████████| 28420/28420 [00:32<00:00, 864.07it/s] \n"
     ]
    },
    {
     "name": "stdout",
     "output_type": "stream",
     "text": [
      "Epoch 222, Training Loss: 0.0015580893759565386\n",
      "Epoch 222, Test Loss: 0.002250704219144962\n"
     ]
    },
    {
     "name": "stderr",
     "output_type": "stream",
     "text": [
      "100%|██████████| 28420/28420 [00:36<00:00, 786.34it/s] \n"
     ]
    },
    {
     "name": "stdout",
     "output_type": "stream",
     "text": [
      "Epoch 223, Training Loss: 0.0015612581004824293\n",
      "Epoch 223, Test Loss: 0.0022111146637760477\n"
     ]
    },
    {
     "name": "stderr",
     "output_type": "stream",
     "text": [
      "100%|██████████| 28420/28420 [00:33<00:00, 851.85it/s] \n"
     ]
    },
    {
     "name": "stdout",
     "output_type": "stream",
     "text": [
      "Epoch 224, Training Loss: 0.0015570556612026255\n",
      "Epoch 224, Test Loss: 0.002202929008022782\n"
     ]
    },
    {
     "name": "stderr",
     "output_type": "stream",
     "text": [
      "100%|██████████| 28420/28420 [00:36<00:00, 771.39it/s] \n"
     ]
    },
    {
     "name": "stdout",
     "output_type": "stream",
     "text": [
      "Epoch 225, Training Loss: 0.0015605983535296334\n",
      "Epoch 225, Test Loss: 0.0022436574025782403\n"
     ]
    },
    {
     "name": "stderr",
     "output_type": "stream",
     "text": [
      "100%|██████████| 28420/28420 [00:32<00:00, 867.13it/s] \n"
     ]
    },
    {
     "name": "stdout",
     "output_type": "stream",
     "text": [
      "Epoch 226, Training Loss: 0.0015602643546534165\n",
      "Epoch 226, Test Loss: 0.002243984571638498\n"
     ]
    },
    {
     "name": "stderr",
     "output_type": "stream",
     "text": [
      "100%|██████████| 28420/28420 [00:33<00:00, 836.14it/s] \n"
     ]
    },
    {
     "name": "stdout",
     "output_type": "stream",
     "text": [
      "Epoch 227, Training Loss: 0.0015579382481377684\n",
      "Epoch 227, Test Loss: 0.0022455208362108362\n"
     ]
    },
    {
     "name": "stderr",
     "output_type": "stream",
     "text": [
      "100%|██████████| 28420/28420 [00:31<00:00, 908.88it/s] \n"
     ]
    },
    {
     "name": "stdout",
     "output_type": "stream",
     "text": [
      "Epoch 228, Training Loss: 0.001558862928127168\n",
      "Epoch 228, Test Loss: 0.00224100434008105\n"
     ]
    },
    {
     "name": "stderr",
     "output_type": "stream",
     "text": [
      "100%|██████████| 28420/28420 [00:33<00:00, 841.09it/s] \n"
     ]
    },
    {
     "name": "stdout",
     "output_type": "stream",
     "text": [
      "Epoch 229, Training Loss: 0.0015569086689280445\n",
      "Epoch 229, Test Loss: 0.002241527430971814\n"
     ]
    },
    {
     "name": "stderr",
     "output_type": "stream",
     "text": [
      "100%|██████████| 28420/28420 [00:33<00:00, 850.02it/s] \n"
     ]
    },
    {
     "name": "stdout",
     "output_type": "stream",
     "text": [
      "Epoch 230, Training Loss: 0.001553729485584482\n",
      "Epoch 230, Test Loss: 0.00221437864897078\n"
     ]
    },
    {
     "name": "stderr",
     "output_type": "stream",
     "text": [
      "100%|██████████| 28420/28420 [00:35<00:00, 808.03it/s] \n"
     ]
    },
    {
     "name": "stdout",
     "output_type": "stream",
     "text": [
      "Epoch 231, Training Loss: 0.0015534389610816813\n",
      "Epoch 231, Test Loss: 0.00220207388685339\n"
     ]
    },
    {
     "name": "stderr",
     "output_type": "stream",
     "text": [
      "100%|██████████| 28420/28420 [00:37<00:00, 768.02it/s] \n"
     ]
    },
    {
     "name": "stdout",
     "output_type": "stream",
     "text": [
      "Epoch 232, Training Loss: 0.0015542800408280767\n",
      "Epoch 232, Test Loss: 0.002224940650104078\n"
     ]
    },
    {
     "name": "stderr",
     "output_type": "stream",
     "text": [
      "100%|██████████| 28420/28420 [00:37<00:00, 759.07it/s] \n"
     ]
    },
    {
     "name": "stdout",
     "output_type": "stream",
     "text": [
      "Epoch 233, Training Loss: 0.0015504313212985426\n",
      "Epoch 233, Test Loss: 0.002204315902823645\n"
     ]
    },
    {
     "name": "stderr",
     "output_type": "stream",
     "text": [
      "100%|██████████| 28420/28420 [00:37<00:00, 764.16it/s] \n"
     ]
    },
    {
     "name": "stdout",
     "output_type": "stream",
     "text": [
      "Epoch 234, Training Loss: 0.00155202469119135\n",
      "Epoch 234, Test Loss: 0.002243595647665049\n"
     ]
    },
    {
     "name": "stderr",
     "output_type": "stream",
     "text": [
      "100%|██████████| 28420/28420 [00:37<00:00, 766.69it/s] \n"
     ]
    },
    {
     "name": "stdout",
     "output_type": "stream",
     "text": [
      "Epoch 235, Training Loss: 0.0015521549156316495\n",
      "Epoch 235, Test Loss: 0.0022493697793123757\n"
     ]
    },
    {
     "name": "stderr",
     "output_type": "stream",
     "text": [
      "100%|██████████| 28420/28420 [00:38<00:00, 743.26it/s] \n"
     ]
    },
    {
     "name": "stdout",
     "output_type": "stream",
     "text": [
      "Epoch 236, Training Loss: 0.0015480926695435264\n",
      "Epoch 236, Test Loss: 0.002242868437818306\n"
     ]
    },
    {
     "name": "stderr",
     "output_type": "stream",
     "text": [
      "100%|██████████| 28420/28420 [00:36<00:00, 784.69it/s] \n"
     ]
    },
    {
     "name": "stdout",
     "output_type": "stream",
     "text": [
      "Epoch 237, Training Loss: 0.0015523207083653885\n",
      "Epoch 237, Test Loss: 0.0022316571498171155\n"
     ]
    },
    {
     "name": "stderr",
     "output_type": "stream",
     "text": [
      "100%|██████████| 28420/28420 [00:35<00:00, 791.08it/s] \n"
     ]
    },
    {
     "name": "stdout",
     "output_type": "stream",
     "text": [
      "Epoch 238, Training Loss: 0.0015471273311360766\n",
      "Epoch 238, Test Loss: 0.0021927843518807226\n"
     ]
    },
    {
     "name": "stderr",
     "output_type": "stream",
     "text": [
      "100%|██████████| 28420/28420 [00:32<00:00, 875.88it/s] \n"
     ]
    },
    {
     "name": "stdout",
     "output_type": "stream",
     "text": [
      "Epoch 239, Training Loss: 0.0015482109986712114\n",
      "Epoch 239, Test Loss: 0.002176222691969945\n"
     ]
    },
    {
     "name": "stderr",
     "output_type": "stream",
     "text": [
      "100%|██████████| 28420/28420 [00:33<00:00, 859.49it/s] \n"
     ]
    },
    {
     "name": "stdout",
     "output_type": "stream",
     "text": [
      "Epoch 240, Training Loss: 0.0015438082486272857\n",
      "Epoch 240, Test Loss: 0.0022289965177658528\n"
     ]
    },
    {
     "name": "stderr",
     "output_type": "stream",
     "text": [
      "100%|██████████| 28420/28420 [00:36<00:00, 772.63it/s] \n"
     ]
    },
    {
     "name": "stdout",
     "output_type": "stream",
     "text": [
      "Epoch 241, Training Loss: 0.0015478038319726986\n",
      "Epoch 241, Test Loss: 0.0022214005845143437\n"
     ]
    },
    {
     "name": "stderr",
     "output_type": "stream",
     "text": [
      "100%|██████████| 28420/28420 [00:38<00:00, 745.51it/s] \n"
     ]
    },
    {
     "name": "stdout",
     "output_type": "stream",
     "text": [
      "Epoch 242, Training Loss: 0.001546824098961178\n",
      "Epoch 242, Test Loss: 0.0022051021748479348\n"
     ]
    },
    {
     "name": "stderr",
     "output_type": "stream",
     "text": [
      "100%|██████████| 28420/28420 [00:38<00:00, 745.91it/s] \n"
     ]
    },
    {
     "name": "stdout",
     "output_type": "stream",
     "text": [
      "Epoch 243, Training Loss: 0.0015429437378127113\n",
      "Epoch 243, Test Loss: 0.002215812292469445\n"
     ]
    },
    {
     "name": "stderr",
     "output_type": "stream",
     "text": [
      "100%|██████████| 28420/28420 [00:31<00:00, 913.49it/s] \n"
     ]
    },
    {
     "name": "stdout",
     "output_type": "stream",
     "text": [
      "Epoch 244, Training Loss: 0.0015429772185881643\n",
      "Epoch 244, Test Loss: 0.002234934714464908\n"
     ]
    },
    {
     "name": "stderr",
     "output_type": "stream",
     "text": [
      "100%|██████████| 28420/28420 [00:37<00:00, 755.15it/s] \n"
     ]
    },
    {
     "name": "stdout",
     "output_type": "stream",
     "text": [
      "Epoch 245, Training Loss: 0.0015419228148996224\n",
      "Epoch 245, Test Loss: 0.002192730931034595\n"
     ]
    },
    {
     "name": "stderr",
     "output_type": "stream",
     "text": [
      "100%|██████████| 28420/28420 [00:33<00:00, 839.87it/s] \n"
     ]
    },
    {
     "name": "stdout",
     "output_type": "stream",
     "text": [
      "Epoch 246, Training Loss: 0.00154337196103505\n",
      "Epoch 246, Test Loss: 0.002239034268702174\n"
     ]
    },
    {
     "name": "stderr",
     "output_type": "stream",
     "text": [
      "100%|██████████| 28420/28420 [00:35<00:00, 811.66it/s] \n"
     ]
    },
    {
     "name": "stdout",
     "output_type": "stream",
     "text": [
      "Epoch 247, Training Loss: 0.001541214431167412\n",
      "Epoch 247, Test Loss: 0.002186687250398248\n"
     ]
    },
    {
     "name": "stderr",
     "output_type": "stream",
     "text": [
      "100%|██████████| 28420/28420 [00:34<00:00, 827.15it/s] \n"
     ]
    },
    {
     "name": "stdout",
     "output_type": "stream",
     "text": [
      "Epoch 248, Training Loss: 0.0015409850745191345\n",
      "Epoch 248, Test Loss: 0.0021912278960591947\n"
     ]
    },
    {
     "name": "stderr",
     "output_type": "stream",
     "text": [
      "100%|██████████| 28420/28420 [00:34<00:00, 820.03it/s] \n"
     ]
    },
    {
     "name": "stdout",
     "output_type": "stream",
     "text": [
      "Epoch 249, Training Loss: 0.001539755066159704\n",
      "Epoch 249, Test Loss: 0.002199867245003761\n"
     ]
    },
    {
     "name": "stderr",
     "output_type": "stream",
     "text": [
      "100%|██████████| 28420/28420 [00:38<00:00, 747.34it/s] \n"
     ]
    },
    {
     "name": "stdout",
     "output_type": "stream",
     "text": [
      "Epoch 250, Training Loss: 0.0015384111293574609\n",
      "Epoch 250, Test Loss: 0.002190629073783035\n"
     ]
    },
    {
     "name": "stderr",
     "output_type": "stream",
     "text": [
      "100%|██████████| 28420/28420 [00:37<00:00, 767.78it/s] \n"
     ]
    },
    {
     "name": "stdout",
     "output_type": "stream",
     "text": [
      "Epoch 251, Training Loss: 0.0015424889840708164\n",
      "Epoch 251, Test Loss: 0.002241655171682675\n"
     ]
    },
    {
     "name": "stderr",
     "output_type": "stream",
     "text": [
      "100%|██████████| 28420/28420 [00:38<00:00, 741.85it/s] \n"
     ]
    },
    {
     "name": "stdout",
     "output_type": "stream",
     "text": [
      "Epoch 252, Training Loss: 0.0015379218432954114\n",
      "Epoch 252, Test Loss: 0.0022113354921959884\n"
     ]
    },
    {
     "name": "stderr",
     "output_type": "stream",
     "text": [
      "100%|██████████| 28420/28420 [00:36<00:00, 775.61it/s] \n"
     ]
    },
    {
     "name": "stdout",
     "output_type": "stream",
     "text": [
      "Epoch 253, Training Loss: 0.0015379927550539518\n",
      "Epoch 253, Test Loss: 0.002199603922022489\n"
     ]
    },
    {
     "name": "stderr",
     "output_type": "stream",
     "text": [
      "100%|██████████| 28420/28420 [00:35<00:00, 798.80it/s] \n"
     ]
    },
    {
     "name": "stdout",
     "output_type": "stream",
     "text": [
      "Epoch 254, Training Loss: 0.0015361388815491575\n",
      "Epoch 254, Test Loss: 0.0022207957385431583\n"
     ]
    },
    {
     "name": "stderr",
     "output_type": "stream",
     "text": [
      "100%|██████████| 28420/28420 [00:35<00:00, 801.48it/s] \n"
     ]
    },
    {
     "name": "stdout",
     "output_type": "stream",
     "text": [
      "Epoch 255, Training Loss: 0.0015390208004379836\n",
      "Epoch 255, Test Loss: 0.002215570755928285\n"
     ]
    },
    {
     "name": "stderr",
     "output_type": "stream",
     "text": [
      "100%|██████████| 28420/28420 [00:36<00:00, 773.46it/s] \n"
     ]
    },
    {
     "name": "stdout",
     "output_type": "stream",
     "text": [
      "Epoch 256, Training Loss: 0.0015385859156022126\n",
      "Epoch 256, Test Loss: 0.0022461878619411454\n"
     ]
    },
    {
     "name": "stderr",
     "output_type": "stream",
     "text": [
      "100%|██████████| 28420/28420 [00:36<00:00, 780.28it/s] \n"
     ]
    },
    {
     "name": "stdout",
     "output_type": "stream",
     "text": [
      "Epoch 257, Training Loss: 0.0015373550368486403\n",
      "Epoch 257, Test Loss: 0.0021936105412246093\n"
     ]
    },
    {
     "name": "stderr",
     "output_type": "stream",
     "text": [
      "100%|██████████| 28420/28420 [00:37<00:00, 763.31it/s] \n"
     ]
    },
    {
     "name": "stdout",
     "output_type": "stream",
     "text": [
      "Epoch 258, Training Loss: 0.0015327455600191154\n",
      "Epoch 258, Test Loss: 0.002206829241637668\n"
     ]
    },
    {
     "name": "stderr",
     "output_type": "stream",
     "text": [
      "100%|██████████| 28420/28420 [00:37<00:00, 757.74it/s] \n"
     ]
    },
    {
     "name": "stdout",
     "output_type": "stream",
     "text": [
      "Epoch 259, Training Loss: 0.0015328058015502285\n",
      "Epoch 259, Test Loss: 0.002234399086869258\n"
     ]
    },
    {
     "name": "stderr",
     "output_type": "stream",
     "text": [
      "100%|██████████| 28420/28420 [00:37<00:00, 767.86it/s] \n"
     ]
    },
    {
     "name": "stdout",
     "output_type": "stream",
     "text": [
      "Epoch 260, Training Loss: 0.0015323620596124012\n",
      "Epoch 260, Test Loss: 0.002211992055256208\n"
     ]
    },
    {
     "name": "stderr",
     "output_type": "stream",
     "text": [
      "100%|██████████| 28420/28420 [00:36<00:00, 768.55it/s] \n"
     ]
    },
    {
     "name": "stdout",
     "output_type": "stream",
     "text": [
      "Epoch 261, Training Loss: 0.0015317129839211108\n",
      "Epoch 261, Test Loss: 0.0022435927006970047\n"
     ]
    },
    {
     "name": "stderr",
     "output_type": "stream",
     "text": [
      "100%|██████████| 28420/28420 [00:34<00:00, 812.24it/s] \n"
     ]
    },
    {
     "name": "stdout",
     "output_type": "stream",
     "text": [
      "Epoch 262, Training Loss: 0.00153245826448817\n",
      "Epoch 262, Test Loss: 0.002199151348091004\n"
     ]
    },
    {
     "name": "stderr",
     "output_type": "stream",
     "text": [
      "100%|██████████| 28420/28420 [00:35<00:00, 798.90it/s] \n"
     ]
    },
    {
     "name": "stdout",
     "output_type": "stream",
     "text": [
      "Epoch 263, Training Loss: 0.0015289828725443355\n",
      "Epoch 263, Test Loss: 0.0022083333899523033\n"
     ]
    },
    {
     "name": "stderr",
     "output_type": "stream",
     "text": [
      "100%|██████████| 28420/28420 [00:33<00:00, 854.89it/s] \n"
     ]
    },
    {
     "name": "stdout",
     "output_type": "stream",
     "text": [
      "Epoch 264, Training Loss: 0.0015336613429819451\n",
      "Epoch 264, Test Loss: 0.002204208442218356\n"
     ]
    },
    {
     "name": "stderr",
     "output_type": "stream",
     "text": [
      "100%|██████████| 28420/28420 [00:36<00:00, 780.89it/s] \n"
     ]
    },
    {
     "name": "stdout",
     "output_type": "stream",
     "text": [
      "Epoch 265, Training Loss: 0.0015315239256797264\n",
      "Epoch 265, Test Loss: 0.002257091985379945\n"
     ]
    },
    {
     "name": "stderr",
     "output_type": "stream",
     "text": [
      "100%|██████████| 28420/28420 [00:33<00:00, 849.60it/s] \n"
     ]
    },
    {
     "name": "stdout",
     "output_type": "stream",
     "text": [
      "Epoch 266, Training Loss: 0.0015315503685246815\n",
      "Epoch 266, Test Loss: 0.002244416125343986\n"
     ]
    },
    {
     "name": "stderr",
     "output_type": "stream",
     "text": [
      "100%|██████████| 28420/28420 [00:34<00:00, 819.87it/s] \n"
     ]
    },
    {
     "name": "stdout",
     "output_type": "stream",
     "text": [
      "Epoch 267, Training Loss: 0.0015290096977518398\n",
      "Epoch 267, Test Loss: 0.0021977395668959067\n"
     ]
    },
    {
     "name": "stderr",
     "output_type": "stream",
     "text": [
      "100%|██████████| 28420/28420 [00:35<00:00, 799.01it/s] \n"
     ]
    },
    {
     "name": "stdout",
     "output_type": "stream",
     "text": [
      "Epoch 268, Training Loss: 0.0015275039316095809\n",
      "Epoch 268, Test Loss: 0.002204748060797384\n"
     ]
    },
    {
     "name": "stderr",
     "output_type": "stream",
     "text": [
      "100%|██████████| 28420/28420 [00:35<00:00, 790.23it/s] \n"
     ]
    },
    {
     "name": "stdout",
     "output_type": "stream",
     "text": [
      "Epoch 269, Training Loss: 0.0015260963288827754\n",
      "Epoch 269, Test Loss: 0.0022324976740720737\n"
     ]
    },
    {
     "name": "stderr",
     "output_type": "stream",
     "text": [
      "100%|██████████| 28420/28420 [00:33<00:00, 846.02it/s] \n"
     ]
    },
    {
     "name": "stdout",
     "output_type": "stream",
     "text": [
      "Epoch 270, Training Loss: 0.0015258117481098939\n",
      "Epoch 270, Test Loss: 0.0022434506570088294\n"
     ]
    },
    {
     "name": "stderr",
     "output_type": "stream",
     "text": [
      "100%|██████████| 28420/28420 [00:37<00:00, 761.23it/s] \n"
     ]
    },
    {
     "name": "stdout",
     "output_type": "stream",
     "text": [
      "Epoch 271, Training Loss: 0.0015242748516141084\n",
      "Epoch 271, Test Loss: 0.0022159481098853666\n"
     ]
    },
    {
     "name": "stderr",
     "output_type": "stream",
     "text": [
      "100%|██████████| 28420/28420 [00:38<00:00, 733.17it/s]\n"
     ]
    },
    {
     "name": "stdout",
     "output_type": "stream",
     "text": [
      "Epoch 272, Training Loss: 0.0015293901319572087\n",
      "Epoch 272, Test Loss: 0.0021921696591376914\n"
     ]
    },
    {
     "name": "stderr",
     "output_type": "stream",
     "text": [
      "100%|██████████| 28420/28420 [00:35<00:00, 801.99it/s] \n"
     ]
    },
    {
     "name": "stdout",
     "output_type": "stream",
     "text": [
      "Epoch 273, Training Loss: 0.0015279838255789326\n",
      "Epoch 273, Test Loss: 0.0021995637562134754\n"
     ]
    },
    {
     "name": "stderr",
     "output_type": "stream",
     "text": [
      "100%|██████████| 28420/28420 [00:38<00:00, 744.76it/s] \n"
     ]
    },
    {
     "name": "stdout",
     "output_type": "stream",
     "text": [
      "Epoch 274, Training Loss: 0.001525184201879546\n",
      "Epoch 274, Test Loss: 0.002298074442661366\n"
     ]
    },
    {
     "name": "stderr",
     "output_type": "stream",
     "text": [
      "100%|██████████| 28420/28420 [00:35<00:00, 794.10it/s] \n"
     ]
    },
    {
     "name": "stdout",
     "output_type": "stream",
     "text": [
      "Epoch 275, Training Loss: 0.0015233712828173743\n",
      "Epoch 275, Test Loss: 0.002245262063222277\n"
     ]
    },
    {
     "name": "stderr",
     "output_type": "stream",
     "text": [
      "100%|██████████| 28420/28420 [00:38<00:00, 735.94it/s]\n"
     ]
    },
    {
     "name": "stdout",
     "output_type": "stream",
     "text": [
      "Epoch 276, Training Loss: 0.0015200178910328682\n",
      "Epoch 276, Test Loss: 0.0022691281382676226\n"
     ]
    },
    {
     "name": "stderr",
     "output_type": "stream",
     "text": [
      "100%|██████████| 28420/28420 [00:33<00:00, 836.46it/s] \n"
     ]
    },
    {
     "name": "stdout",
     "output_type": "stream",
     "text": [
      "Epoch 277, Training Loss: 0.0015207132559552112\n",
      "Epoch 277, Test Loss: 0.0022003351323329795\n"
     ]
    },
    {
     "name": "stderr",
     "output_type": "stream",
     "text": [
      "100%|██████████| 28420/28420 [00:37<00:00, 751.09it/s] \n"
     ]
    },
    {
     "name": "stdout",
     "output_type": "stream",
     "text": [
      "Epoch 278, Training Loss: 0.0015194460612596957\n",
      "Epoch 278, Test Loss: 0.0022140846241849982\n"
     ]
    },
    {
     "name": "stderr",
     "output_type": "stream",
     "text": [
      "100%|██████████| 28420/28420 [00:37<00:00, 755.54it/s] \n"
     ]
    },
    {
     "name": "stdout",
     "output_type": "stream",
     "text": [
      "Epoch 279, Training Loss: 0.001520032405614523\n",
      "Epoch 279, Test Loss: 0.0022004966374565087\n"
     ]
    },
    {
     "name": "stderr",
     "output_type": "stream",
     "text": [
      "100%|██████████| 28420/28420 [00:33<00:00, 843.15it/s] \n"
     ]
    },
    {
     "name": "stdout",
     "output_type": "stream",
     "text": [
      "Epoch 280, Training Loss: 0.0015232156525206814\n",
      "Epoch 280, Test Loss: 0.002219819317592477\n"
     ]
    },
    {
     "name": "stderr",
     "output_type": "stream",
     "text": [
      "100%|██████████| 28420/28420 [00:35<00:00, 806.07it/s] \n"
     ]
    },
    {
     "name": "stdout",
     "output_type": "stream",
     "text": [
      "Epoch 281, Training Loss: 0.0015203410135291627\n",
      "Epoch 281, Test Loss: 0.002207243727892168\n"
     ]
    },
    {
     "name": "stderr",
     "output_type": "stream",
     "text": [
      "100%|██████████| 28420/28420 [00:38<00:00, 745.50it/s] \n"
     ]
    },
    {
     "name": "stdout",
     "output_type": "stream",
     "text": [
      "Epoch 282, Training Loss: 0.0015180472399160569\n",
      "Epoch 282, Test Loss: 0.0022339642103029315\n"
     ]
    },
    {
     "name": "stderr",
     "output_type": "stream",
     "text": [
      "100%|██████████| 28420/28420 [00:37<00:00, 756.25it/s] \n"
     ]
    },
    {
     "name": "stdout",
     "output_type": "stream",
     "text": [
      "Epoch 283, Training Loss: 0.0015189240593119259\n",
      "Epoch 283, Test Loss: 0.0022053382851466323\n"
     ]
    },
    {
     "name": "stderr",
     "output_type": "stream",
     "text": [
      "100%|██████████| 28420/28420 [00:36<00:00, 781.41it/s] \n"
     ]
    },
    {
     "name": "stdout",
     "output_type": "stream",
     "text": [
      "Epoch 284, Training Loss: 0.001518690971658046\n",
      "Epoch 284, Test Loss: 0.002238598049990389\n"
     ]
    },
    {
     "name": "stderr",
     "output_type": "stream",
     "text": [
      "100%|██████████| 28420/28420 [00:37<00:00, 767.02it/s] \n"
     ]
    },
    {
     "name": "stdout",
     "output_type": "stream",
     "text": [
      "Epoch 285, Training Loss: 0.0015183198894419387\n",
      "Epoch 285, Test Loss: 0.0022039390005507277\n"
     ]
    },
    {
     "name": "stderr",
     "output_type": "stream",
     "text": [
      "100%|██████████| 28420/28420 [00:36<00:00, 779.06it/s] \n"
     ]
    },
    {
     "name": "stdout",
     "output_type": "stream",
     "text": [
      "Epoch 286, Training Loss: 0.00151891897322735\n",
      "Epoch 286, Test Loss: 0.002268515297283708\n"
     ]
    },
    {
     "name": "stderr",
     "output_type": "stream",
     "text": [
      "100%|██████████| 28420/28420 [00:33<00:00, 860.24it/s] \n"
     ]
    },
    {
     "name": "stdout",
     "output_type": "stream",
     "text": [
      "Epoch 287, Training Loss: 0.0015192086418367046\n",
      "Epoch 287, Test Loss: 0.002224628462283276\n"
     ]
    },
    {
     "name": "stderr",
     "output_type": "stream",
     "text": [
      "100%|██████████| 28420/28420 [00:37<00:00, 761.72it/s] \n"
     ]
    },
    {
     "name": "stdout",
     "output_type": "stream",
     "text": [
      "Epoch 288, Training Loss: 0.0015140924829769578\n",
      "Epoch 288, Test Loss: 0.002203013028495511\n"
     ]
    },
    {
     "name": "stderr",
     "output_type": "stream",
     "text": [
      "100%|██████████| 28420/28420 [00:36<00:00, 785.26it/s] \n"
     ]
    },
    {
     "name": "stdout",
     "output_type": "stream",
     "text": [
      "Epoch 289, Training Loss: 0.0015147021255578464\n",
      "Epoch 289, Test Loss: 0.0022221193114653442\n"
     ]
    },
    {
     "name": "stderr",
     "output_type": "stream",
     "text": [
      "100%|██████████| 28420/28420 [00:38<00:00, 747.13it/s] \n"
     ]
    },
    {
     "name": "stdout",
     "output_type": "stream",
     "text": [
      "Epoch 290, Training Loss: 0.0015144039962663419\n",
      "Epoch 290, Test Loss: 0.0021977917395290076\n"
     ]
    },
    {
     "name": "stderr",
     "output_type": "stream",
     "text": [
      "100%|██████████| 28420/28420 [00:33<00:00, 849.45it/s] \n"
     ]
    },
    {
     "name": "stdout",
     "output_type": "stream",
     "text": [
      "Epoch 291, Training Loss: 0.0015125230000518459\n",
      "Epoch 291, Test Loss: 0.0022596609518076363\n"
     ]
    },
    {
     "name": "stderr",
     "output_type": "stream",
     "text": [
      "100%|██████████| 28420/28420 [00:37<00:00, 761.74it/s] \n"
     ]
    },
    {
     "name": "stdout",
     "output_type": "stream",
     "text": [
      "Epoch 292, Training Loss: 0.001514654622339442\n",
      "Epoch 292, Test Loss: 0.0021880384841600838\n"
     ]
    },
    {
     "name": "stderr",
     "output_type": "stream",
     "text": [
      "100%|██████████| 28420/28420 [00:38<00:00, 742.36it/s] \n"
     ]
    },
    {
     "name": "stdout",
     "output_type": "stream",
     "text": [
      "Epoch 293, Training Loss: 0.0015116571165251572\n",
      "Epoch 293, Test Loss: 0.0021885537029854374\n"
     ]
    },
    {
     "name": "stderr",
     "output_type": "stream",
     "text": [
      "100%|██████████| 28420/28420 [00:35<00:00, 792.34it/s] \n"
     ]
    },
    {
     "name": "stdout",
     "output_type": "stream",
     "text": [
      "Epoch 294, Training Loss: 0.0015125963881888326\n",
      "Epoch 294, Test Loss: 0.0022367906940978003\n"
     ]
    },
    {
     "name": "stderr",
     "output_type": "stream",
     "text": [
      "100%|██████████| 28420/28420 [00:37<00:00, 761.17it/s] \n"
     ]
    },
    {
     "name": "stdout",
     "output_type": "stream",
     "text": [
      "Epoch 295, Training Loss: 0.0015086863285437109\n",
      "Epoch 295, Test Loss: 0.0022371574952980196\n"
     ]
    },
    {
     "name": "stderr",
     "output_type": "stream",
     "text": [
      "100%|██████████| 28420/28420 [00:37<00:00, 753.60it/s] \n"
     ]
    },
    {
     "name": "stdout",
     "output_type": "stream",
     "text": [
      "Epoch 296, Training Loss: 0.0015117860200411296\n",
      "Epoch 296, Test Loss: 0.002197747024632416\n"
     ]
    },
    {
     "name": "stderr",
     "output_type": "stream",
     "text": [
      "100%|██████████| 28420/28420 [00:35<00:00, 795.74it/s] \n"
     ]
    },
    {
     "name": "stdout",
     "output_type": "stream",
     "text": [
      "Epoch 297, Training Loss: 0.0015113981110273385\n",
      "Epoch 297, Test Loss: 0.002250863658317268\n"
     ]
    },
    {
     "name": "stderr",
     "output_type": "stream",
     "text": [
      "100%|██████████| 28420/28420 [00:34<00:00, 816.42it/s] \n"
     ]
    },
    {
     "name": "stdout",
     "output_type": "stream",
     "text": [
      "Epoch 298, Training Loss: 0.0015076424995393296\n",
      "Epoch 298, Test Loss: 0.0022010764746118105\n"
     ]
    },
    {
     "name": "stderr",
     "output_type": "stream",
     "text": [
      "100%|██████████| 28420/28420 [00:37<00:00, 752.49it/s] \n"
     ]
    },
    {
     "name": "stdout",
     "output_type": "stream",
     "text": [
      "Epoch 299, Training Loss: 0.0015111958071043776\n",
      "Epoch 299, Test Loss: 0.002201557824315031\n"
     ]
    },
    {
     "name": "stderr",
     "output_type": "stream",
     "text": [
      "100%|██████████| 28420/28420 [00:38<00:00, 742.69it/s]\n"
     ]
    },
    {
     "name": "stdout",
     "output_type": "stream",
     "text": [
      "Epoch 300, Training Loss: 0.0015099220141165024\n",
      "Epoch 300, Test Loss: 0.002221270125859808\n"
     ]
    },
    {
     "name": "stderr",
     "output_type": "stream",
     "text": [
      "100%|██████████| 28420/28420 [00:35<00:00, 790.36it/s] \n"
     ]
    },
    {
     "name": "stdout",
     "output_type": "stream",
     "text": [
      "Epoch 301, Training Loss: 0.0015094053470513602\n",
      "Epoch 301, Test Loss: 0.0022423169125075676\n"
     ]
    },
    {
     "name": "stderr",
     "output_type": "stream",
     "text": [
      "100%|██████████| 28420/28420 [00:37<00:00, 759.45it/s]\n"
     ]
    },
    {
     "name": "stdout",
     "output_type": "stream",
     "text": [
      "Epoch 302, Training Loss: 0.0015078757757756558\n",
      "Epoch 302, Test Loss: 0.0022204866107151003\n"
     ]
    },
    {
     "name": "stderr",
     "output_type": "stream",
     "text": [
      "100%|██████████| 28420/28420 [00:36<00:00, 785.85it/s] \n"
     ]
    },
    {
     "name": "stdout",
     "output_type": "stream",
     "text": [
      "Epoch 303, Training Loss: 0.0015060794350092775\n",
      "Epoch 303, Test Loss: 0.002190807462498795\n"
     ]
    },
    {
     "name": "stderr",
     "output_type": "stream",
     "text": [
      "100%|██████████| 28420/28420 [00:34<00:00, 829.66it/s] \n"
     ]
    },
    {
     "name": "stdout",
     "output_type": "stream",
     "text": [
      "Epoch 304, Training Loss: 0.0015046454324077014\n",
      "Epoch 304, Test Loss: 0.002229140763911279\n"
     ]
    },
    {
     "name": "stderr",
     "output_type": "stream",
     "text": [
      "100%|██████████| 28420/28420 [00:38<00:00, 735.44it/s]\n"
     ]
    },
    {
     "name": "stdout",
     "output_type": "stream",
     "text": [
      "Epoch 305, Training Loss: 0.001509421263604841\n",
      "Epoch 305, Test Loss: 0.0022162400413295725\n"
     ]
    },
    {
     "name": "stderr",
     "output_type": "stream",
     "text": [
      "100%|██████████| 28420/28420 [00:32<00:00, 873.87it/s] \n"
     ]
    },
    {
     "name": "stdout",
     "output_type": "stream",
     "text": [
      "Epoch 306, Training Loss: 0.0015069864398913797\n",
      "Epoch 306, Test Loss: 0.0022129758043838584\n"
     ]
    },
    {
     "name": "stderr",
     "output_type": "stream",
     "text": [
      "100%|██████████| 28420/28420 [00:37<00:00, 754.63it/s] \n"
     ]
    },
    {
     "name": "stdout",
     "output_type": "stream",
     "text": [
      "Epoch 307, Training Loss: 0.0015039306479042434\n",
      "Epoch 307, Test Loss: 0.0022037349408318046\n"
     ]
    },
    {
     "name": "stderr",
     "output_type": "stream",
     "text": [
      "100%|██████████| 28420/28420 [00:36<00:00, 768.90it/s] \n"
     ]
    },
    {
     "name": "stdout",
     "output_type": "stream",
     "text": [
      "Epoch 308, Training Loss: 0.0015049649269110697\n",
      "Epoch 308, Test Loss: 0.0022066737144392583\n"
     ]
    },
    {
     "name": "stderr",
     "output_type": "stream",
     "text": [
      "100%|██████████| 28420/28420 [00:36<00:00, 789.10it/s] \n"
     ]
    },
    {
     "name": "stdout",
     "output_type": "stream",
     "text": [
      "Epoch 309, Training Loss: 0.0015038822483952915\n",
      "Epoch 309, Test Loss: 0.002200758971906275\n"
     ]
    },
    {
     "name": "stderr",
     "output_type": "stream",
     "text": [
      "100%|██████████| 28420/28420 [00:38<00:00, 728.84it/s]\n"
     ]
    },
    {
     "name": "stdout",
     "output_type": "stream",
     "text": [
      "Epoch 310, Training Loss: 0.0015047366898070552\n",
      "Epoch 310, Test Loss: 0.002197306668395537\n"
     ]
    },
    {
     "name": "stderr",
     "output_type": "stream",
     "text": [
      "100%|██████████| 28420/28420 [00:37<00:00, 764.32it/s] \n"
     ]
    },
    {
     "name": "stdout",
     "output_type": "stream",
     "text": [
      "Epoch 311, Training Loss: 0.001506090496158649\n",
      "Epoch 311, Test Loss: 0.0022247353827748615\n"
     ]
    },
    {
     "name": "stderr",
     "output_type": "stream",
     "text": [
      "100%|██████████| 28420/28420 [00:37<00:00, 753.17it/s]\n"
     ]
    },
    {
     "name": "stdout",
     "output_type": "stream",
     "text": [
      "Epoch 312, Training Loss: 0.0015039516626700054\n",
      "Epoch 312, Test Loss: 0.0022206455074915365\n"
     ]
    },
    {
     "name": "stderr",
     "output_type": "stream",
     "text": [
      "100%|██████████| 28420/28420 [00:36<00:00, 783.06it/s] \n"
     ]
    },
    {
     "name": "stdout",
     "output_type": "stream",
     "text": [
      "Epoch 313, Training Loss: 0.001501684147507884\n",
      "Epoch 313, Test Loss: 0.002222191892584034\n"
     ]
    },
    {
     "name": "stderr",
     "output_type": "stream",
     "text": [
      "100%|██████████| 28420/28420 [00:38<00:00, 741.99it/s] \n"
     ]
    },
    {
     "name": "stdout",
     "output_type": "stream",
     "text": [
      "Epoch 314, Training Loss: 0.0015031162304563063\n",
      "Epoch 314, Test Loss: 0.002186858765424098\n"
     ]
    },
    {
     "name": "stderr",
     "output_type": "stream",
     "text": [
      "100%|██████████| 28420/28420 [00:36<00:00, 770.13it/s] \n"
     ]
    },
    {
     "name": "stdout",
     "output_type": "stream",
     "text": [
      "Epoch 315, Training Loss: 0.00149874580266585\n",
      "Epoch 315, Test Loss: 0.002187741412633904\n"
     ]
    },
    {
     "name": "stderr",
     "output_type": "stream",
     "text": [
      "100%|██████████| 28420/28420 [00:36<00:00, 789.29it/s] \n"
     ]
    },
    {
     "name": "stdout",
     "output_type": "stream",
     "text": [
      "Epoch 316, Training Loss: 0.0015036597759741552\n",
      "Epoch 316, Test Loss: 0.002239197332135439\n"
     ]
    },
    {
     "name": "stderr",
     "output_type": "stream",
     "text": [
      "100%|██████████| 28420/28420 [00:37<00:00, 755.48it/s] \n"
     ]
    },
    {
     "name": "stdout",
     "output_type": "stream",
     "text": [
      "Epoch 317, Training Loss: 0.0015003147278312393\n",
      "Epoch 317, Test Loss: 0.0022024368757924805\n"
     ]
    },
    {
     "name": "stderr",
     "output_type": "stream",
     "text": [
      "100%|██████████| 28420/28420 [00:34<00:00, 834.77it/s] \n"
     ]
    },
    {
     "name": "stdout",
     "output_type": "stream",
     "text": [
      "Epoch 318, Training Loss: 0.0015023320915373824\n",
      "Epoch 318, Test Loss: 0.0022172239653114306\n"
     ]
    },
    {
     "name": "stderr",
     "output_type": "stream",
     "text": [
      "100%|██████████| 28420/28420 [00:36<00:00, 782.45it/s] \n"
     ]
    },
    {
     "name": "stdout",
     "output_type": "stream",
     "text": [
      "Epoch 319, Training Loss: 0.0014970514024773198\n",
      "Epoch 319, Test Loss: 0.0022336225390570986\n"
     ]
    },
    {
     "name": "stderr",
     "output_type": "stream",
     "text": [
      "100%|██████████| 28420/28420 [00:32<00:00, 864.95it/s] \n"
     ]
    },
    {
     "name": "stdout",
     "output_type": "stream",
     "text": [
      "Epoch 320, Training Loss: 0.0014953866469931212\n"
     ]
    }
   ],
   "source": [
    "epochs = 500\n",
    "\n",
    "regression_head = regression_head.to(device)\n",
    "\n",
    "optimizer = optim.Adam(regression_head.parameters(), lr=1e-5)\n",
    "\n",
    "# For stats\n",
    "training_losses = []\n",
    "test_losses = []\n",
    "\n",
    "for epoch in range(epochs):\n",
    "    regression_head.train()\n",
    "    running_loss = 0.0\n",
    "    for batch in tqdm(dataloader):\n",
    "        optimizer.zero_grad()\n",
    "        embeddings = batch['embeddings'].to(device)\n",
    "        targets = batch['targets'].to(device)\n",
    "        outputs = regression_head(embeddings)\n",
    "        loss = criterion(outputs.squeeze(), targets)\n",
    "        loss.backward()\n",
    "        optimizer.step()\n",
    "        running_loss += loss.item()\n",
    "    train_loss = running_loss / len(dataloader)\n",
    "    training_losses.append(train_loss)\n",
    "    print(f\"Epoch {epoch+1}, Training Loss: {train_loss}\")\n",
    "\n",
    "    # Evaluate on test data\n",
    "    regression_head.eval()  # Set the model to evaluation mode\n",
    "    test_loss = 0.0\n",
    "    with torch.no_grad():  # Disable gradient calculation\n",
    "        for batch in test_dataloader:\n",
    "            embeddings = batch['embeddings'].to(device)\n",
    "            targets = batch['targets'].to(device)\n",
    "            outputs = regression_head(embeddings)\n",
    "            loss = criterion(outputs.squeeze(), targets)\n",
    "            test_loss += loss.item()\n",
    "    test_loss /= len(test_dataloader)\n",
    "    test_losses.append(test_loss)\n",
    "    print(f\"Epoch {epoch+1}, Test Loss: {test_loss}\")\n",
    "    # torch.save(regression_head, path_to_model + '_' + str(epoch))\n",
    "    torch.save(regression_head, path_to_model)\n"
   ]
  },
  {
   "cell_type": "code",
   "execution_count": null,
   "metadata": {},
   "outputs": [],
   "source": [
    "# To plot the losses again the epoch\n",
    "import matplotlib.pyplot as plt\n",
    "\n",
    "epochs = range(1, len(training_losses) + 1)\n",
    "\n",
    "plt.figure(figsize=(10, 6))\n",
    "plt.plot(epochs, training_losses, label='Training Loss', marker='o', linestyle='-')\n",
    "plt.plot(epochs, test_losses, label='Test Loss', marker='x', linestyle='--')\n",
    "\n",
    "plt.title('Training and Test Loss')\n",
    "plt.xlabel('Epoch')\n",
    "plt.ylabel('Loss')\n",
    "plt.legend()\n",
    "plt.grid(True)\n",
    "\n",
    "plt.show()"
   ]
  },
  {
   "cell_type": "code",
   "execution_count": null,
   "metadata": {},
   "outputs": [],
   "source": [
    "# Save the trained regression head model\n",
    "torch.save(regression_head, path_to_model)"
   ]
  },
  {
   "cell_type": "markdown",
   "metadata": {},
   "source": [
    "### Model Evaluation"
   ]
  },
  {
   "cell_type": "code",
   "execution_count": 7,
   "metadata": {},
   "outputs": [
    {
     "name": "stdout",
     "output_type": "stream",
     "text": [
      "Model loaded successfully.\n"
     ]
    }
   ],
   "source": [
    "if os.path.exists(path_to_model):\n",
    "    # Load the model\n",
    "    regression_head = torch.load(path_to_model)\n",
    "    regression_head.eval()  # Set the model to evaluation mode if you're only doing inference\n",
    "    print(\"Model loaded successfully.\")\n",
    "else:\n",
    "    print(\"No model saved\")"
   ]
  },
  {
   "cell_type": "code",
   "execution_count": 8,
   "metadata": {},
   "outputs": [
    {
     "name": "stdout",
     "output_type": "stream",
     "text": [
      "[[0.00256579]\n",
      " [0.00095066]\n",
      " [0.00223329]\n",
      " ...\n",
      " [0.00302109]\n",
      " [0.00847561]\n",
      " [0.00515457]]\n"
     ]
    }
   ],
   "source": [
    "predictions = []\n",
    "\n",
    "with torch.no_grad():  # Disable gradient calculation\n",
    "    for batch in test_dataloader:\n",
    "        embeddings = batch['embeddings'].to(device)\n",
    "        outputs = regression_head(embeddings)\n",
    "        # Move the tensor holding the predictions to CPU and convert to NumPy\n",
    "        predictions.append(outputs.detach().cpu().numpy())\n",
    "\n",
    "# Concatenate all predictions along the batch dimension\n",
    "predictions_array = np.concatenate(predictions, axis=0)\n",
    "print(predictions_array)"
   ]
  },
  {
   "cell_type": "code",
   "execution_count": 10,
   "metadata": {},
   "outputs": [
    {
     "data": {
      "text/html": [
       "<div>\n",
       "<style scoped>\n",
       "    .dataframe tbody tr th:only-of-type {\n",
       "        vertical-align: middle;\n",
       "    }\n",
       "\n",
       "    .dataframe tbody tr th {\n",
       "        vertical-align: top;\n",
       "    }\n",
       "\n",
       "    .dataframe thead th {\n",
       "        text-align: right;\n",
       "    }\n",
       "</style>\n",
       "<table border=\"1\" class=\"dataframe\">\n",
       "  <thead>\n",
       "    <tr style=\"text-align: right;\">\n",
       "      <th></th>\n",
       "      <th>tokenized_input_len</th>\n",
       "      <th>tokenized_title_len</th>\n",
       "      <th>tokenized_comment_len</th>\n",
       "      <th>target_scores</th>\n",
       "      <th>prediction</th>\n",
       "    </tr>\n",
       "  </thead>\n",
       "  <tbody>\n",
       "    <tr>\n",
       "      <th>0</th>\n",
       "      <td>43</td>\n",
       "      <td>16</td>\n",
       "      <td>28</td>\n",
       "      <td>0.000136</td>\n",
       "      <td>0.002566</td>\n",
       "    </tr>\n",
       "    <tr>\n",
       "      <th>1</th>\n",
       "      <td>112</td>\n",
       "      <td>16</td>\n",
       "      <td>97</td>\n",
       "      <td>0.000000</td>\n",
       "      <td>0.000951</td>\n",
       "    </tr>\n",
       "    <tr>\n",
       "      <th>2</th>\n",
       "      <td>34</td>\n",
       "      <td>16</td>\n",
       "      <td>19</td>\n",
       "      <td>0.000136</td>\n",
       "      <td>0.002233</td>\n",
       "    </tr>\n",
       "    <tr>\n",
       "      <th>3</th>\n",
       "      <td>94</td>\n",
       "      <td>16</td>\n",
       "      <td>79</td>\n",
       "      <td>0.000136</td>\n",
       "      <td>0.001631</td>\n",
       "    </tr>\n",
       "    <tr>\n",
       "      <th>4</th>\n",
       "      <td>29</td>\n",
       "      <td>16</td>\n",
       "      <td>14</td>\n",
       "      <td>0.000136</td>\n",
       "      <td>0.001439</td>\n",
       "    </tr>\n",
       "    <tr>\n",
       "      <th>5</th>\n",
       "      <td>31</td>\n",
       "      <td>16</td>\n",
       "      <td>16</td>\n",
       "      <td>0.000136</td>\n",
       "      <td>0.012481</td>\n",
       "    </tr>\n",
       "    <tr>\n",
       "      <th>6</th>\n",
       "      <td>120</td>\n",
       "      <td>16</td>\n",
       "      <td>105</td>\n",
       "      <td>0.000136</td>\n",
       "      <td>-0.006539</td>\n",
       "    </tr>\n",
       "    <tr>\n",
       "      <th>7</th>\n",
       "      <td>149</td>\n",
       "      <td>16</td>\n",
       "      <td>134</td>\n",
       "      <td>0.000271</td>\n",
       "      <td>0.008182</td>\n",
       "    </tr>\n",
       "    <tr>\n",
       "      <th>8</th>\n",
       "      <td>230</td>\n",
       "      <td>16</td>\n",
       "      <td>215</td>\n",
       "      <td>0.000271</td>\n",
       "      <td>-0.000434</td>\n",
       "    </tr>\n",
       "    <tr>\n",
       "      <th>9</th>\n",
       "      <td>20</td>\n",
       "      <td>16</td>\n",
       "      <td>5</td>\n",
       "      <td>0.000136</td>\n",
       "      <td>0.002037</td>\n",
       "    </tr>\n",
       "  </tbody>\n",
       "</table>\n",
       "</div>"
      ],
      "text/plain": [
       "   tokenized_input_len  tokenized_title_len  tokenized_comment_len  \\\n",
       "0                   43                   16                     28   \n",
       "1                  112                   16                     97   \n",
       "2                   34                   16                     19   \n",
       "3                   94                   16                     79   \n",
       "4                   29                   16                     14   \n",
       "5                   31                   16                     16   \n",
       "6                  120                   16                    105   \n",
       "7                  149                   16                    134   \n",
       "8                  230                   16                    215   \n",
       "9                   20                   16                      5   \n",
       "\n",
       "   target_scores  prediction  \n",
       "0       0.000136    0.002566  \n",
       "1       0.000000    0.000951  \n",
       "2       0.000136    0.002233  \n",
       "3       0.000136    0.001631  \n",
       "4       0.000136    0.001439  \n",
       "5       0.000136    0.012481  \n",
       "6       0.000136   -0.006539  \n",
       "7       0.000271    0.008182  \n",
       "8       0.000271   -0.000434  \n",
       "9       0.000136    0.002037  "
      ]
     },
     "execution_count": 10,
     "metadata": {},
     "output_type": "execute_result"
    }
   ],
   "source": [
    "# Load the lengths_with_score\n",
    "lengths_with_score =  pd.read_parquet(\"../data/test_tokenize_lengths_with_score.parquet\")\n",
    "\n",
    "lengths_with_score['prediction'] = predictions_array\n",
    "lengths_with_score.head(10)"
   ]
  },
  {
   "cell_type": "code",
   "execution_count": 11,
   "metadata": {},
   "outputs": [
    {
     "data": {
      "image/png": "[encoded data removed]",
      "text/plain": [
       "<Figure size 800x600 with 1 Axes>"
      ]
     },
     "metadata": {},
     "output_type": "display_data"
    }
   ],
   "source": [
    "import matplotlib.pyplot as plt\n",
    "\n",
    "y_true = lengths_with_score['target_scores']\n",
    "y_pred = lengths_with_score['prediction']\n",
    "\n",
    "plt.figure(figsize=(8, 6))\n",
    "plt.scatter(y_true, y_pred, color='blue', label='Predictions')\n",
    "plt.title('Predictions vs. Ground Truth')\n",
    "plt.xlabel('Ground Truth Values')\n",
    "plt.ylabel('Predicted Values')\n",
    "\n",
    "# Plotting the perfect predictions line\n",
    "plt.plot([y_true.min(), y_true.max()], [y_true.min(), y_true.max()], 'k--', lw=2, label='Perfect Predictions')\n",
    "\n",
    "plt.legend()\n",
    "plt.show()"
   ]
  },
  {
   "cell_type": "code",
   "execution_count": null,
   "metadata": {},
   "outputs": [],
   "source": []
  }
 ],
 "metadata": {
  "kernelspec": {
   "display_name": "base",
   "language": "python",
   "name": "python3"
  },
  "language_info": {
   "codemirror_mode": {
    "name": "ipython",
    "version": 3
   },
   "file_extension": ".py",
   "mimetype": "text/x-python",
   "name": "python",
   "nbconvert_exporter": "python",
   "pygments_lexer": "ipython3",
   "version": "3.10.12"
  }
 },
 "nbformat": 4,
 "nbformat_minor": 2
}
